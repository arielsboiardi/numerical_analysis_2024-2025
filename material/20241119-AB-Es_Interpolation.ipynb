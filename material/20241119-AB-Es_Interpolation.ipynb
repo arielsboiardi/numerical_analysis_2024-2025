{
 "cells": [
  {
   "cell_type": "markdown",
   "metadata": {},
   "source": [
    "# Interpolation"
   ]
  },
  {
   "cell_type": "markdown",
   "metadata": {},
   "source": [
    "## Problem statement\n",
    "We consider a collection of $n+1$ data points ${(x_i,y_i)}_{i=0}^{n}$, and we want to find a polynomial function $p(x)$ such that $p(x_i)=y_i$; assuming the data points are generate by a function $y(x)$, the _interpolating polynomial_ can be used to estimate the values of $y(x)$ for $x\\neq x_i$. \n",
    "Having $n+1$ degrees of freedom, the polynomial model to represent the data will be of degree $n$.\n",
    "\n",
    "In a more abstract setting, this operations amounts to approximating a general function $f$, from an infinitely dimensional function space $V$, with a simpler function $p$, taken in a finite-dimensional subspace $V_n\\subset V$. \n",
    "\n",
    "Having fixed a basis for the subspace $V_n$, be it ${\\phi_i(x)}_{i=0}^{n}$, we can express $p(x)$ as a linear combinantion of basis functions with $n+1$ unknown coefficients (degrees fo freedom):\n",
    "$$\n",
    "p(x) = \\sum_{j=0}^{n} c_j \\phi_j(x).\n",
    "$$\n",
    "\n",
    "The interpolation condition, $p(x_i)=y_i$, imposes therefore a set on $n+1$ linear constraints:\n",
    "$$\n",
    "\\sum_{j=0}^{n} c_j \\phi_j(x_i) = y_i,\\quad\\text{for $i=0,1,\\ldots,n$},\n",
    "$$\n",
    "which can be expressed in matrix form as $Ac = y$ with \n",
    "$$\n",
    "A = \n",
    "\\begin{bmatrix}\n",
    "\\phi_0(x_0)\t& \\phi_1(x_0) & \\cdots & \\phi_n(x_0)\\\\\n",
    "\\phi_0(x_1)\t& \\phi_1(x_1) & \\cdots & \\phi_n(x_1)\\\\\n",
    "\\vdots\t\t& \\vdots \t  & \t\t& \\vdots \\\\\n",
    "\\phi_0(x_n)\t& \\phi_1(x_n) & \\cdots & \\phi_n(x_n)\n",
    "\\end{bmatrix},\\quad\n",
    "c = \n",
    "\\begin{bmatrix}\n",
    "c_0 \\\\c_1\\\\ \\vdots \\\\ c_n\n",
    "\\end{bmatrix},\\quad\n",
    "y = \n",
    "\\begin{bmatrix}\n",
    "y_0 \\\\ y_1 \\\\ \\vdots \\\\ y_n\n",
    "\\end{bmatrix}.\n",
    "$$"
   ]
  },
  {
   "cell_type": "markdown",
   "metadata": {},
   "source": [
    "## Polynomial interpolation"
   ]
  },
  {
   "cell_type": "markdown",
   "metadata": {},
   "source": [
    "For _polynomial interpolation_ there are some choices for the basis functions:\n",
    "- Monomial;\n",
    "- Lagrange;\n",
    "- Newton.\n",
    "\n",
    "For more general interpolation problems one could also chose different basis functions, such as trigonometric, exponentials, rationals, wavelets,..."
   ]
  },
  {
   "cell_type": "markdown",
   "metadata": {},
   "source": [
    "### Monomial basis"
   ]
  },
  {
   "cell_type": "markdown",
   "metadata": {},
   "source": [
    "In this case $\\phi_j(x) = x^j$ "
   ]
  },
  {
   "cell_type": "markdown",
   "metadata": {},
   "source": [
    "#### Visualization"
   ]
  },
  {
   "cell_type": "code",
   "execution_count": null,
   "metadata": {},
   "outputs": [],
   "source": [
    "import numpy as np\n",
    "import matplotlib.pyplot as plt"
   ]
  },
  {
   "cell_type": "code",
   "execution_count": null,
   "metadata": {},
   "outputs": [],
   "source": [
    "n = 5\n",
    "X = np.linspace(0,1,n+1)\n",
    "x = np.linspace(-0.1,1.1,200)"
   ]
  },
  {
   "cell_type": "code",
   "execution_count": null,
   "metadata": {},
   "outputs": [],
   "source": [
    "fig, ax = plt.subplots(figsize=(10, 1))\n",
    "ax.plot(x, 0*x)\n",
    "ax.plot(X, 0*X, 'ro')\n",
    "fig.set_size_inches(10, 1)"
   ]
  },
  {
   "cell_type": "code",
   "execution_count": null,
   "metadata": {},
   "outputs": [],
   "source": [
    "def monomial_basis(i,x):\n",
    "\t\"\"\"\n",
    "\tCompute the i-th monomial basis function at x.\n",
    "\t\"\"\"\n",
    "\treturn x**i"
   ]
  },
  {
   "cell_type": "code",
   "execution_count": null,
   "metadata": {},
   "outputs": [],
   "source": [
    "fig, ax = plt.subplots(figsize=(6, 6))\n",
    "\n",
    "for i in range(7):\n",
    "\tax.plot(x, monomial_basis(i, x), label=f'$x^{i}$')\n",
    "\n",
    "ax.legend()\n",
    "ax.set_title('Monomial Basis Functions up to Order 6')\n",
    "ax.set_xlabel('$x$')\n",
    "ax.set_ylabel('$\\phi_i(x)$')\n",
    "plt.show()"
   ]
  },
  {
   "cell_type": "markdown",
   "metadata": {},
   "source": [
    "#### The Vandermonde matrix\n",
    "With this choice of basis functions, entriees of the matrix $A$ are \n",
    "$$ \n",
    "a_{i,j} = x_i^j;\n",
    "$$\n",
    "this particularm matrix appears often and is called _Vandermonde matrix_ and is known to be very poorly conditioned. "
   ]
  },
  {
   "cell_type": "code",
   "execution_count": null,
   "metadata": {},
   "outputs": [],
   "source": [
    "def myVander(X):\n",
    "\t\"\"\"\n",
    "\tConstruct the Vandermonde matrix for x with n+1 columns.\n",
    "\t\"\"\"\n"
   ]
  },
  {
   "cell_type": "markdown",
   "metadata": {},
   "source": [
    "#### Example\n",
    "Let us approximate the function $f(x)=x(x-1)(x+2)(x+\\pi/10)(x-0.5)$, having uniformly spaced data points in $[-1,1]$"
   ]
  },
  {
   "cell_type": "code",
   "execution_count": null,
   "metadata": {},
   "outputs": [],
   "source": [
    "# Define the function to approximate\n",
    "def f(x):\n",
    "\treturn x * (x - 1) * (x + 2) * (x + np.pi / 10) * (x - 0.5)\n",
    "\n",
    "# Generate uniformly spaced data points in [-1, 1]\n",
    "n = 2\n",
    "X = np.linspace(-1, 1, n + 1)\n",
    "x = np.linspace(X[0], X[-1], 200)\n",
    "Y = f(X)\n",
    "\n",
    "# Compute coefficients of the interpolant\n",
    "\n",
    "\n",
    "# Evaluate the interpolant\n",
    "\n",
    "\n",
    "# Plot the function and the data points\n",
    "fig, ax = plt.subplots(figsize=(10, 6))\n",
    "ax.plot(x, f(x), label='$f(x)$')\n",
    "ax.plot(x, p, label='Interpolant')\n",
    "ax.plot(X, Y, 'ro', label='Data points')\n",
    "ax.legend()\n",
    "ax.set_title('Function Approximation with Uniformly Spaced Data Points')\n",
    "ax.set_xlabel('$x$')\n",
    "ax.set_ylabel('$f(x)$')\n",
    "plt.show()"
   ]
  },
  {
   "cell_type": "code",
   "execution_count": null,
   "metadata": {},
   "outputs": [],
   "source": [
    "# Compute the error\n",
    "error = f(x) - p\n",
    "\n",
    "# Plot the error\n",
    "fig, ax = plt.subplots(figsize=(10, 6))\n",
    "ax.plot(x, error, label='Error')\n",
    "ax.legend()\n",
    "ax.set_title('Error in Function Approximation')\n",
    "ax.set_xlabel('$x$')\n",
    "ax.set_ylabel('Error')\n",
    "plt.show()"
   ]
  },
  {
   "cell_type": "markdown",
   "metadata": {},
   "source": [
    "#### Monomial interpolation function"
   ]
  },
  {
   "cell_type": "code",
   "execution_count": null,
   "metadata": {},
   "outputs": [],
   "source": [
    "def monomial_interp(X, Y, x):\n",
    "\t\"\"\"\n",
    "\tCompute the interpolant of the data (X, Y) evaluated at x by monomial interpolation.\n",
    "\t\"\"\"\n",
    "\tn = len(X) - 1\n",
    "\tA = np.vander(X, increasing=True)\n",
    "\tc = np.linalg.solve(A, Y)\n",
    "\tB = np.array([[monomial_basis(j, x[i]) for j in range(n+1)] for i in range(len(x))])\n",
    "\n",
    "\treturn B@c,A"
   ]
  },
  {
   "cell_type": "markdown",
   "metadata": {},
   "source": [
    "#### Example\n",
    "Let us approximate the function $f(x)=(2\\pi x)$ on $[0,1]$  "
   ]
  },
  {
   "cell_type": "code",
   "execution_count": null,
   "metadata": {},
   "outputs": [],
   "source": [
    "# Define the function to approximate\n",
    "def f(x):\n",
    "\treturn np.sin(2*np.pi*x)\n",
    "\n",
    "# Generate uniformly spaced data points in [0, 1]\n",
    "n = 5\n",
    "X = np.linspace(0, 1, n + 1)\n",
    "x = np.linspace(X[0], X[-1], 200)\n",
    "Y = f(X)\n",
    "\n",
    "# Evaluate the interpolant\n",
    "p,A = monomial_interp(X, Y, x)\n",
    "\n",
    "# Plot the function and the data points\n",
    "fig, ax = plt.subplots(figsize=(10, 6))\n",
    "ax.plot(x, f(x), label='$f(x)$')\n",
    "ax.plot(x, p, label='Interpolant')\n",
    "ax.plot(X, Y, 'ro', label='Data points')\n",
    "ax.legend()\n",
    "ax.set_title('Function Approximation with Uniformly Spaced Data Points')\n",
    "ax.set_xlabel('$x$')\n",
    "ax.set_ylabel('$f(x)$')\n",
    "plt.show()\n",
    "\n",
    "# Compute the error\n",
    "error = abs(f(x) - p)\n",
    "print(f'Maximum error: {max(error)}')\n"
   ]
  },
  {
   "cell_type": "markdown",
   "metadata": {},
   "source": [
    "#### Runge's phenomenon\n",
    "A particularly interesting example is given by the approximation of the runge function:\n",
    "$$\n",
    "f(x) = \\frac{1}{1+100 x^2},\\quad x \\in [-1,1]\n",
    "$$"
   ]
  },
  {
   "cell_type": "code",
   "execution_count": null,
   "metadata": {},
   "outputs": [],
   "source": [
    "# Define the Runge function\n",
    "def runge(x):\n",
    "\treturn 1 / (1 + 100 * x**2)\n",
    "\n",
    "# Generate uniformly spaced data points in [-1, 1]\n",
    "n = 5\n",
    "X = np.linspace(-1, 1, n + 1)\n",
    "x = np.linspace(X[0], X[-1], 200)\n",
    "Y = runge(X)\n",
    "\n",
    "# Interpolate\n",
    "p,A = monomial_interp(X, Y, x)\n",
    "\n",
    "# Plot the function and the data points\n",
    "fig, ax = plt.subplots(figsize=(10, 6))\n",
    "ax.plot(x, runge(x), label='$f(x)$')\n",
    "ax.plot(x, p, label='Interpolant')\n",
    "ax.plot(X, Y, 'ro', label='Data points')\n",
    "ax.legend()\n",
    "ax.set_title('Function Approximation with Uniformly Spaced Data Points')\n",
    "ax.set_xlabel('$x$')\n",
    "ax.set_ylabel('$f(x)$')\n",
    "plt.show()\n",
    "\n",
    "# Compute the error\n",
    "error = abs(f(x) - p)\n",
    "print(f'Maximum error: {max(error)}')"
   ]
  },
  {
   "cell_type": "code",
   "execution_count": null,
   "metadata": {},
   "outputs": [],
   "source": [
    "# Generate uniformly spaced data points in [-1, 1]\n",
    "n = 10\n",
    "X = np.linspace(-1, 1, n + 1)\n",
    "x = np.linspace(X[0], X[-1], 200)\n",
    "Y = abs(X)\n",
    "\n",
    "# Interpolate\n",
    "p,A = monomial_interp(X, Y, x)\n",
    "\n",
    "# Plot the function and the data points\n",
    "fig, ax = plt.subplots(figsize=(10, 6))\n",
    "ax.plot(x, abs(x), label='$f(x)$')\n",
    "ax.plot(x, p, label='Interpolant')\n",
    "ax.plot(X, Y, 'ro', label='Data points')\n",
    "ax.legend()\n",
    "ax.set_title('Function Approximation with Uniformly Spaced Data Points')\n",
    "ax.set_xlabel('$x$')\n",
    "ax.set_ylabel('$f(x)$')\n",
    "plt.show()\n",
    "\n",
    "# Compute the error\n",
    "error = abs(f(x) - p)\n",
    "print(f'Maximum error: {max(error)}')"
   ]
  },
  {
   "cell_type": "code",
   "execution_count": null,
   "metadata": {},
   "outputs": [],
   "source": [
    "# Define the Heaviside function\n",
    "def step(x):\n",
    "\treturn np.heaviside(x-0.5, 1)\n",
    "\n",
    "# Generate uniformly spaced data points in [-1, 1]\n",
    "n = 5\n",
    "X = np.linspace(0, 1, n + 1)\n",
    "x = np.linspace(X[0], X[-1], 200)\n",
    "Y = step(X)\n",
    "\n",
    "# Interpolate\n",
    "p,A = monomial_interp(X, Y, x)\n",
    "\n",
    "# Plot the function and the data points\n",
    "fig, ax = plt.subplots(figsize=(10, 6))\n",
    "ax.plot(x, step(x), label='$f(x)$')\n",
    "ax.plot(x, p, label='Interpolant')\n",
    "ax.plot(X, Y, 'ro', label='Data points')\n",
    "ax.legend()\n",
    "ax.set_title('Function Approximation with Uniformly Spaced Data Points')\n",
    "ax.set_xlabel('$x$')\n",
    "ax.set_ylabel('$f(x)$')\n",
    "plt.show()\n",
    "\n",
    "# Compute the error\n",
    "error = abs(f(x) - p)\n",
    "print(f'Maximum error: {max(error)}')"
   ]
  },
  {
   "cell_type": "markdown",
   "metadata": {},
   "source": [
    "On this uneven interval, the condition number of the Vandermoned matrix is much worse."
   ]
  },
  {
   "cell_type": "code",
   "execution_count": null,
   "metadata": {},
   "outputs": [],
   "source": [
    "np.linalg.cond(A)"
   ]
  },
  {
   "cell_type": "markdown",
   "metadata": {},
   "source": [
    "#### Conditioning of the Vandermonde matrix"
   ]
  },
  {
   "cell_type": "code",
   "execution_count": null,
   "metadata": {},
   "outputs": [],
   "source": [
    "# Compute the condition numbers for different numbers of points\n",
    "max_points = 25\n",
    "\n"
   ]
  },
  {
   "cell_type": "markdown",
   "metadata": {},
   "source": [
    "### Lagrangian interpolation\n",
    "\n",
    "A suitable choice of basis functions allows to get a linear system with $A=I$. This basis is called Lagrange basis functions, and is defined as \n",
    "$$\n",
    "L_j(x) = \\prod_{\\begin{array}{c}\\scriptsize i=0 \\\\ \\scriptsize i\\neq j\\end{array}}^{n} \\frac{x-x_i}{x_j -x_i}.\n",
    "$$\n",
    "With such choice of basis, there is no linear system to be solved, and the coefficients of the linear combination are the data pointas themselves, so that, with the notations used so far, we can express the interpolating polynomial as\n",
    "$$\n",
    "p(x) =\\sum_{j=0}^{n} y_j L_j(x).\n",
    "$$ "
   ]
  },
  {
   "cell_type": "code",
   "execution_count": null,
   "metadata": {},
   "outputs": [],
   "source": [
    "def lagrange_basis(X, j, x):\n",
    "\t\"\"\"\n",
    "\tCompute the j-th Lagrange basis polynomial at x.\n",
    "\t\"\"\"\n",
    "\t"
   ]
  },
  {
   "cell_type": "code",
   "execution_count": null,
   "metadata": {},
   "outputs": [],
   "source": [
    "deg = 6\n",
    "X = np.linspace(0, 1, deg + 1)\n",
    "x = np.linspace(X[0]-0*(X[-1]-X[0]), X[-1]+0*(X[-1]-X[0]), 200)\n",
    "\n",
    "fig, ax = plt.subplots(figsize=(6, 5))\n",
    "\n",
    "for i in range(deg+1):\n",
    "\tax.plot(x, lagrange_basis(X, i, x), label=f'$L_{i}(x)$')\n",
    "\n",
    "ax.plot(X, 0*X, 'ro')\n",
    "\n",
    "ax.legend(loc='center left', bbox_to_anchor=(1, 0.5))\n",
    "ax.set_title(f'Lagrange Basis Functions of Degree {deg} on equally spaced points')\n",
    "ax.set_xlabel('$x$')\n",
    "ax.set_ylabel('$L_i(x)$')\n",
    "plt.show()"
   ]
  },
  {
   "cell_type": "code",
   "execution_count": null,
   "metadata": {},
   "outputs": [],
   "source": [
    "fig, axs =plt.subplots(1,deg + 1, figsize=(3*(deg + 1),3))\n",
    "\n",
    "for i in range(deg + 1):\n",
    "\taxs[i].axhline(y=1, color='gray', linestyle='--')\n",
    "\taxs[i].axvline(x=X[i], color='gray', linestyle='--')\n",
    "\taxs[i].plot(x, lagrange_basis(X, i, x), label=f'$L_{i}(x)$')\n",
    "\taxs[i].plot(X, 0 * X, 'ro')\n",
    "\t# axs[i].legend()\n",
    "\taxs[i].set_xlabel('$x$')\n",
    "\taxs[i].set_ylabel(f'$L_{i}(x)$')\n",
    "\n",
    "plt.tight_layout()\n",
    "plt.show()"
   ]
  },
  {
   "cell_type": "markdown",
   "metadata": {},
   "source": [
    "#### Lagrange interpolation function"
   ]
  },
  {
   "cell_type": "code",
   "execution_count": null,
   "metadata": {},
   "outputs": [],
   "source": [
    "def lagrange_interp(X, Y, x):\n",
    "\t\"\"\"\n",
    "\tCompute the Lagrange interpolant of the data (X, Y) evaluated at x.\n",
    "\t\"\"\"\n"
   ]
  },
  {
   "cell_type": "markdown",
   "metadata": {},
   "source": [
    "#### Does this solve Runge's phenomenon?"
   ]
  },
  {
   "cell_type": "code",
   "execution_count": null,
   "metadata": {},
   "outputs": [],
   "source": [
    "# Generate uniformly spaced data points in [-1, 1]\n",
    "n = 5\t# polynomial degree of the interpolant\n",
    "\n",
    "X = np.linspace(-1, 1, n + 1)\n",
    "x = np.linspace(X[0], X[-1], 200)\n",
    "Y = runge(X)\n",
    "\n",
    "# Interpolate\n",
    "p = lagrange_interp(X, Y, x)\n",
    "\n",
    "# Plot the function and the data points\n",
    "fig, ax = plt.subplots(figsize=(10, 6))\n",
    "ax.plot(x, runge(x), label='$f(x)$')\n",
    "ax.plot(x, p, label='Interpolant')\n",
    "ax.plot(X, Y, 'ro', label='Data points')\n",
    "ax.legend()\n",
    "ax.set_title(f'Approximation of Runge function on {n+1} uniformly spaced data points')\n",
    "ax.set_xlabel('$x$')\n",
    "ax.set_ylabel('$f(x)$')\n",
    "plt.show()\n",
    "\n",
    "# Compute the error\n",
    "error = abs(runge(x) - p)\n",
    "print(f'Maximum error: {max(error)}')"
   ]
  },
  {
   "cell_type": "code",
   "execution_count": null,
   "metadata": {},
   "outputs": [],
   "source": [
    "# Define the error computation function\n",
    "def compute_error(n,fun=runge):\n",
    "\tX = np.linspace(-1, 1, n + 1)\n",
    "\tY = fun(X)\n",
    "\tx = np.linspace(-1, 1, 200)\n",
    "\tp = lagrange_interp(X, Y, x)\n",
    "\terror = abs(fun(x) - p)\n",
    "\treturn max(error)\n",
    "\n",
    "# Compute the errors for different values of n\n",
    "max_n = 30\n",
    "errors_runge = [compute_error(n-1) for n in range(1, max_n + 1)]\n",
    "errors_abs = [compute_error(n-1,abs) for n in range(1, max_n + 1)]\n",
    "\n",
    "# Plot the errors\n",
    "plt.figure(figsize=(10, 6))\n",
    "plt.plot(range(1, max_n + 1), errors_runge, marker='o', label='runge')\n",
    "plt.plot(range(1, max_n + 1), errors_abs, marker='o', label='abs')\n",
    "plt.legend()\n",
    "plt.yscale('log')\n",
    "plt.xlabel('Number of Points (n)')\n",
    "plt.ylabel('Maximum Error')\n",
    "plt.title('Maximum Error in Lagrange Interpolation of Runge Function')\n",
    "plt.grid(True)\n",
    "plt.show()"
   ]
  },
  {
   "cell_type": "markdown",
   "metadata": {},
   "source": [
    "## Lebesgue constants and Chebyshev nodes\n",
    "\n",
    "From the theory, we know that\n",
    "\n",
    "**Theorem (Interpoation Error, [Cauchy 1840])**\n",
    "\n",
    "Let $f \\in \\mathcal{C^{n+1}}([a,b])$ and suppose $x_0,x_1,\\ldots,x_n \\in [a,b]$ are $n+1$ distinct points. \n",
    "Let $p_n$ be the (unique) polynomial such that $p_n(x_i) = f(x_i)$ for $i=0,1,\\ldots,n$.\n",
    "\n",
    "Then\n",
    "$$\n",
    "E_n[f](x) := f(x) - p_n(x) = \\frac{f^{(n+1)}(\\xi)}{(n+1)!}\\prod_{i=0}^{n} (x-x_i),\n",
    "$$\n",
    "where $\\xi \\in (\\min_{i=0,\\ldots,n}\\{x_i\\},\\max_{i=0,\\ldots,n}\\{x_i\\})$."
   ]
  },
  {
   "cell_type": "markdown",
   "metadata": {},
   "source": [
    "We define the **Lebesgue function** relative to the $n+1$ point interpolation as \n",
    "$$\n",
    "\t\\lambda_n(x):=\\sum_{j=0}^{n} \\vert L_j(x)\\vert\n",
    "$$"
   ]
  },
  {
   "cell_type": "code",
   "execution_count": null,
   "metadata": {},
   "outputs": [],
   "source": [
    "def lebesgue_function(X, x):\n",
    "\t\"\"\"\n",
    "\tCompute the Lebesgue function evaluated at x for the data points X.\n",
    "\t\"\"\"\n",
    "\tdeg = len(X) - 1\n",
    "\tL = np.zeros_like(x)\n",
    "\tfor j in range(deg+1):\n",
    "\t\tL += abs(lagrange_basis(X, j, x))\n",
    "\n",
    "\treturn L"
   ]
  },
  {
   "cell_type": "code",
   "execution_count": null,
   "metadata": {},
   "outputs": [],
   "source": [
    "n = 5\n",
    "X = np.linspace(-1, 1, n + 1)\n",
    "x = np.linspace(X[0], X[-1], 200)\n",
    "plt.plot(x,lebesgue_function(X,x))"
   ]
  },
  {
   "cell_type": "markdown",
   "metadata": {},
   "source": [
    "The Lebesgue constant is then defined as the maximum of the lebesgue function:\n",
    "$$\n",
    "\\Lambda_n = \\max_{x \\in [a,b]} \\lambda_n(x)\n",
    "$$"
   ]
  },
  {
   "cell_type": "code",
   "execution_count": null,
   "metadata": {},
   "outputs": [],
   "source": [
    "def lebesgue_constant(X):\n",
    "\t\"\"\"\n",
    "\tCompute the Lebesgue constant for the data points X.\n",
    "\t\"\"\"\n",
    "\tx = np.linspace(X[0], X[-1], 200)\n",
    "\tL = lebesgue_function(X, x)\n",
    "\treturn max(L)"
   ]
  },
  {
   "cell_type": "markdown",
   "metadata": {},
   "source": [
    "### Chebyshev-Lobatto points\n",
    "\n",
    "**Bernstein's Theorem**\n",
    "\n",
    "For every function $f \\in \\mathcal{C}^{1}([a,b])$, $-\\infty < a < b < +\\infty$, if $p_n$ is the interpolant of $f$ at $n+1$ Chebyshev nodes, then $\\Vert f - p_n \\Vert _{\\infty} \\to  0$ as $n\\to\\infty$."
   ]
  },
  {
   "attachments": {
    "image.png": {
     "image/png": "[encoded data removed]"
    }
   },
   "cell_type": "markdown",
   "metadata": {},
   "source": [
    "The **Chebyshev nodes** on the interval $(-1,1)$ are obteined projecting points from the unit half-circle on the horizontal axis:\n",
    "\n",
    "![image.png](attachment:image.png)"
   ]
  },
  {
   "cell_type": "code",
   "execution_count": null,
   "metadata": {},
   "outputs": [],
   "source": [
    "def chebyshev_nodes(n, a=-1, b=1):\n",
    "\t\"\"\"\n",
    "\tCompute the Chebyshev nodes in the interval [a, b].\n",
    "\t\"\"\""
   ]
  },
  {
   "cell_type": "code",
   "execution_count": null,
   "metadata": {},
   "outputs": [],
   "source": [
    "# Define the number of Chebyshev nodes\n",
    "n = 10\n",
    "\n",
    "# Compute the Chebyshev nodes\n",
    "nodes = chebyshev_nodes(n)\n",
    "\n",
    "# Define the unit circle\n",
    "theta = np.linspace(0, np.pi, 200)\n",
    "theta_nodes = [(2*k+1)*np.pi/(2*n) for k in range(n)]\n",
    "circle_x = np.cos(theta)\n",
    "circle_y = np.sin(theta)\n",
    "nodes_y = np.sin(theta_nodes)\n",
    "\n",
    "# Plot the unit circle and Chebyshev nodes\n",
    "fig, ax = plt.subplots(figsize=(8, 8))\n",
    "ax.plot(circle_x, circle_y,'b--')\n",
    "ax.plot(nodes, nodes_y, 'bo')\n",
    "ax.plot(nodes, np.zeros_like(nodes), 'ro', label='Chebyshev Nodes')\n",
    "ax.set_aspect('equal')\n",
    "ax.legend()\n",
    "ax.set_title('Unit Circle and Chebyshev Nodes')\n",
    "ax.set_xlabel('$x$')\n",
    "ax.set_ylabel('$y$')\n",
    "ax.set_xticks(nodes)\n",
    "plt.grid(True)\n",
    "plt.show()"
   ]
  },
  {
   "cell_type": "markdown",
   "metadata": {},
   "source": [
    "We can see that on these nodes, the Lebesgue constants are lower:"
   ]
  },
  {
   "cell_type": "code",
   "execution_count": null,
   "metadata": {},
   "outputs": [],
   "source": [
    "n = 5\n",
    "X = chebyshev_nodes(n+1)\n",
    "x = np.linspace(X[0], X[-1], 200)\n",
    "plt.plot(x,lebesgue_function(X,x))"
   ]
  },
  {
   "cell_type": "code",
   "execution_count": null,
   "metadata": {},
   "outputs": [],
   "source": [
    "max_n = 30\n",
    "\n",
    "# Compute the Lebesgue constants for equally spaced and Chebyshev nodes\n",
    "lebesgue_constants_equally_spaced = [lebesgue_constant(np.linspace(-1, 1, n + 1)) for n in range(1, max_n + 1)]\n",
    "lebesgue_constants_chebyshev = [lebesgue_constant(chebyshev_nodes(n+1)) for n in range(1, max_n + 1)]\n",
    "\n",
    "# Plot the Lebesgue constants\n",
    "plt.figure(figsize=(10, 6))\n",
    "plt.plot(range(1, max_n + 1), lebesgue_constants_equally_spaced, marker='o', label='Equally Spaced Nodes')\n",
    "# plt.plot(range(10, max_n + 1), [2**(n)/n*np.log(n) for n in range(10, max_n + 1)], label='O(2^n/n log(n))')\n",
    "plt.plot(range(1, max_n + 1), lebesgue_constants_chebyshev, marker='o', label='Chebyshev Nodes')\n",
    "plt.yscale('log')\n",
    "plt.xlabel('Polynomial degree')\n",
    "plt.ylabel('Lebesgue Constant')\n",
    "plt.title('Lebesgue Constant for Equally Spaced and Chebyshev Nodes')\n",
    "plt.legend()\n",
    "plt.grid(True)\n",
    "plt.show()"
   ]
  },
  {
   "cell_type": "markdown",
   "metadata": {},
   "source": [
    "### Runge example again"
   ]
  },
  {
   "cell_type": "code",
   "execution_count": null,
   "metadata": {},
   "outputs": [],
   "source": [
    "# Generate uniformly spaced data points in [-1, 1]\n",
    "n = 5\t# polynomial degree of the interpolant\n",
    "\n",
    "X = chebyshev_nodes(n+1)\n",
    "x = np.linspace(X[0], X[-1], 200)\n",
    "Y = runge(X)\n",
    "\n",
    "# Interpolate\n",
    "p = lagrange_interp(X, Y, x)\n",
    "\n",
    "# Plot the function and the data points\n",
    "fig, ax = plt.subplots(figsize=(10, 6))\n",
    "ax.plot(x, runge(x), label='$f(x)$')\n",
    "ax.plot(x, p, label='Interpolant')\n",
    "ax.plot(X, Y, 'ro', label='Data points')\n",
    "ax.legend()\n",
    "ax.set_title(f'Approximation of Runge function on {n+1} uniformly spaced data points')\n",
    "ax.set_xlabel('$x$')\n",
    "ax.set_ylabel('$f(x)$')\n",
    "plt.show()"
   ]
  },
  {
   "cell_type": "markdown",
   "metadata": {},
   "source": [
    "### Comparison\n",
    "Let us now see the behaviour of the interpolation operator on Chebyshev nodes on different functions"
   ]
  },
  {
   "cell_type": "code",
   "execution_count": null,
   "metadata": {},
   "outputs": [],
   "source": [
    "# Define the error computation function\n",
    "def compute_error(n,fun=runge):\n",
    "\tX = chebyshev_nodes(n+1)\n",
    "\tY = fun(X)\n",
    "\tx = np.linspace(-1, 1, 200)\n",
    "\tp = lagrange_interp(X, Y, x)\n",
    "\terror = abs(fun(x) - p)\n",
    "\treturn max(error)\n",
    "\n",
    "# Compute the errors for different values of n\n",
    "max_n = 100\n",
    "errors_sin = [compute_error(n-1,np.sin) for n in range(1, max_n + 1)]\n",
    "errors_runge = [compute_error(n-1) for n in range(1, max_n + 1)]\n",
    "errors_abs = [compute_error(n-1,abs) for n in range(1, max_n + 1)]\n",
    "\n",
    "# Plot the errors\n",
    "plt.figure(figsize=(8, 5))\n",
    "plt.plot(range(1, max_n + 1), errors_sin, marker='o',label='sin')\n",
    "plt.plot(range(1, max_n + 1), errors_runge, marker='o',label='runge')\n",
    "plt.plot(range(1, max_n + 1), errors_abs, marker='o',label='abs')\n",
    "plt.yscale('log')\n",
    "plt.xlabel('Number of Points (n)')\n",
    "plt.ylabel('Maximum Error')\n",
    "plt.title('Maximum Error in Lagrange Interpolation of Runge Function')\n",
    "plt.grid(True)\n",
    "plt.legend()\n",
    "plt.show()"
   ]
  }
 ],
 "metadata": {
  "kernelspec": {
   "display_name": "Python 3",
   "language": "python",
   "name": "python3"
  },
  "language_info": {
   "codemirror_mode": {
    "name": "ipython",
    "version": 3
   },
   "file_extension": ".py",
   "mimetype": "text/x-python",
   "name": "python",
   "nbconvert_exporter": "python",
   "pygments_lexer": "ipython3",
   "version": "3.10.12"
  }
 },
 "nbformat": 4,
 "nbformat_minor": 2
}
