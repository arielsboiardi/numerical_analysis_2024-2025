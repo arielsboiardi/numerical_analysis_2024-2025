{
 "cells": [
  {
   "cell_type": "code",
   "execution_count": 1,
   "metadata": {},
   "outputs": [],
   "source": [
    "import numpy as np\n",
    "import matplotlib.pyplot as plt"
   ]
  },
  {
   "cell_type": "markdown",
   "metadata": {},
   "source": [
    "# Final assignment for the course _Applied mathematics: An introduction to scientific computing by numerical analysis_\n",
    "\n",
    "For any question related to the assignment, please contact the tutor at [aboiardi@sissa.it](mailto:aboiardi@sissa.it)."
   ]
  },
  {
   "cell_type": "markdown",
   "metadata": {},
   "source": [
    "# Assignment 1: Trajectory of a robotic arm"
   ]
  },
  {
   "cell_type": "markdown",
   "metadata": {},
   "source": [
    "\n",
    "## Generalized interpolation\n",
    "\n",
    "Lagrange polynomial interpolation can be generalized to the case in which also the values of the derivatives of a function $f$ are available at some (or all) of the nodes.\n",
    "\n",
    "__Theorem__\n",
    "Let $n+1$ distinct points $x_0, x_1,\\ldots,x_n$, as many natural numbers $\\alpha_0,\\alpha_1,\\ldots,\\alpha_n$ and the real numbers $y_i^{(k)},\\ i=0,1,\\ldots,n,\\ k=0,\\ldots,\\alpha_i$ be given. \n",
    "Let $m = n + \\sum_{i=0}^n \\alpha_i$; then there exists a unique polynomial $H(x)$ of degree $m$, called _Hermite interpolation polynomial_, such that \n",
    "$$\n",
    "H^{(k)}(x_i) = y_i^{(k)}, \\quad \n",
    "\\begin{array}{l}\n",
    "\ti = 0,1,\\ldots,n,\\\\\n",
    "\tk = 0,\\ldots,\\alpha_i\n",
    "\\end{array}\n",
    "$$\n",
    "\n",
    "Similarly to the usual interpolation approach one can simply fix a basis $\\{\\phi_0,\\ldots,\\phi_m\\}$ for the space of polynomials of degree $m$ and look for a polynomial \n",
    "$$\n",
    "\tH(x) = a_0 \\phi_0(x) + \\cdots + a_m \\phi_m(x). \n",
    "$$\n",
    "Imposing the passage and derivative constraint one get a linear system\n",
    "$$\n",
    "G a = y \n",
    "$$\n",
    "where \n",
    "$$\n",
    "G = \n",
    "\\begin{bmatrix}\n",
    "\t\\phi_0(x_0) & \\phi_1(x_0) & \\cdots & \\phi_m(x_0) \\\\ \n",
    "\t\\phi_0'(x_0) & \\phi_1'(x_0) & \\cdots & \\phi_m'(x_0) \\\\ \n",
    "\t\\vdots & \\vdots &  & \\vdots \\\\ \n",
    "\t\\phi_0^{(\\alpha_0)}(x_0) & \\phi_1^{(\\alpha_0)}(x_0) & \\cdots & \\phi_m^{(\\alpha_0)}(x_0) \\\\ \n",
    "\t\\vdots &  &  & \\vdots \\\\ \n",
    "\t\\vdots &  &  & \\vdots \\\\ \n",
    "\t\\phi_0(x_n) & \\phi_1(x_n) & \\cdots & \\phi_m(x_n) \\\\ \n",
    "\t\\phi_0'(x_n) & \\phi_1'(x_n) & \\cdots & \\phi_m'(x_n) \\\\ \n",
    "\t\\vdots & \\vdots &  & \\vdots \\\\ \n",
    "\t\\phi_0^{(\\alpha_n)}(x_n) & \\phi_1^{(\\alpha_n)}(x_n) & \\cdots & \\phi_m^{(\\alpha_n)}(x_n)\n",
    "\\end{bmatrix}, \\quad \n",
    "a = \n",
    "\\begin{bmatrix}\n",
    "\ta_0 \\\\ \\vdots \\\\ a_m\n",
    "\\end{bmatrix}, \\quad \n",
    "y = \n",
    "\\begin{bmatrix}\n",
    "\ty_0 \\\\ y_0^{(1)} \\\\ \\vdots \\\\ y_0^{\\alpha_0}\\\\ \\vdots \\\\ y_n \\\\ y_n^{(1)} \\\\ \\vdots \\\\ y_n^{\\alpha_n}\n",
    "\\end{bmatrix}.\n",
    "$$\n"
   ]
  },
  {
   "cell_type": "markdown",
   "metadata": {},
   "source": [
    "## The problem\n",
    "\n",
    "Program the $xy$-plane the trajectory of a robot arm in a work cycle.\n",
    "\n",
    "The robot must respect the following movement constraints: at the initial time ($t = 0$) the robot is stationary at position $(0, 0)$, at time $t = 1$ it passes through the point $(2, 2)$, reaches the point $(4, 5)$ at time $t = 2$ with zero velocity, then departs to reach the point $(3, 2)$ at time $t = 3$ and returns to the starting point at time $t = 4$, stopping and then departing for a new cycle.\n",
    "\n",
    "To solve the problem: \n",
    "1. Write a function that evaluates the matrix $G$ for any number of constraints\n",
    "2. Implement the LU factorization to solve the linear systems coming from the robotic arm trajectory.\n"
   ]
  },
  {
   "cell_type": "markdown",
   "metadata": {},
   "source": [
    "# Assignment 2: A stationary BVP"
   ]
  },
  {
   "cell_type": "markdown",
   "metadata": {},
   "source": [
    "The stationary Euler-Bernoulli beam equation\n",
    "$$\n",
    "{\\cfrac {\\partial ^{4}w}{\\partial x^{4}}} = q(x) \\quad x \\in [0,1]\n",
    "$$\n",
    "describes the relation between the transversal deflection $w$ of an elastic beam and the distributed load $q(x)$ applied to the beam. Compared to the equation found in literature, we have omitted the Young modulus and the moment of inertia of the beam, which are assumed to be constant and equal to 1.\n",
    "\n",
    "Considering the clamp-clamp boundary conditions \n",
    "$$\n",
    "\\begin{array}{l}\n",
    "w(0) = w_0, &\tw(1) = w_1, \\\\\n",
    "w'(0) = w_0^1, & w'(1) = w_1^1.\n",
    "\\end{array}\n",
    "$$\n",
    "\n",
    "Solve the problem by a suitable finite differences scheme for an arbitrary load distribution.\n",
    "Note that to express the finite difference approximation of $\\cfrac {\\partial ^{4}w}{\\partial x^{4}}$ near the boundary you will have to introduce some additional (ghost) nodes; the values of the solution on such nodes can be determined from the boundary conditions.\n",
    "\n",
    "For some load distributions and boundary conditions it is easy to calculate the analytic solution to the problem, which can be used to validate the numerical solution. \n",
    "\n",
    "In particular, for the load distribution\n",
    "$$\n",
    "q(x) = x(1-x)\n",
    "$$\n",
    "and boundary conditions\n",
    "$$\n",
    "\\begin{array}{l}\n",
    "w_0 = 0, &\tw_1 = 0, \\\\\n",
    "w_0^1 = 0, & w_1^1 = 0,\n",
    "\\end{array}\n",
    "$$\n",
    "the exact solution is\n",
    "$$\n",
    "w(s) = \\frac{5}{18} s^2 \\left(s^4-3 s^3+5 s-3\\right).\n",
    "$$\n",
    "\n",
    "Use it to check the order of convergence of your numerical scheme."
   ]
  },
  {
   "cell_type": "markdown",
   "metadata": {},
   "source": [
    "# Assignment 3: Eigenmodes of a beam\n",
    "\n",
    "The dynamics if the beam is described by the following equation\n",
    "$$\n",
    "\\cfrac {\\partial ^{4}w}{\\partial x^{4}} = - {\\cfrac {\\partial^{2}w}{\\partial t^{2}}} + q(x,t),\n",
    "$$\n",
    "where the inertial term has been added. \n",
    "Also in this case the equation has been simplified by also setting the linear mass density of the beam to 1.\n",
    "\n",
    "We can study the _normal modes_ of vibration of a beam by setting $q(x) = 0$ and looking for solutions of the form\n",
    "$$\n",
    "w(x,t) = v(x) e^{i \\omega^2 t}, \n",
    "$$\n",
    "where $v(x)$ is the spatial part of the solution and $\\frac{\\omega}{2\\pi}$ is the frequency of the vibration.\n",
    "By substituting this ansatz into the equation of motion, we get the problem\t\n",
    "$$\n",
    "\\cfrac {\\partial ^{4}v}{\\partial x^{4}} = \\omega^4 v.\n",
    "$$\n",
    "\n",
    "Using the finite difference approximation of the fourth derivative operator, this can be written as a matrix eigenvalue problem\n",
    "$$\n",
    "A v = \\omega^4 v.\n",
    "$$\n",
    "where $A$ is the matrix representing the finite difference approximation of the fourth derivative and $v$ is the vector of the values of the function $v(x)$ at the nodes. \n",
    "Therefore, the eigenvalues of $A$ represent the fourth power of the vibration frequencies of the beam, while the eigenvectors represent the corresponding normal modes."
   ]
  },
  {
   "cell_type": "markdown",
   "metadata": {},
   "source": [
    "### Problem 3.1\n",
    "Implement inverse power iteration to find the fundamental (smallest in absolute value) frequency of the beam. Plot the corresponding normal mode."
   ]
  },
  {
   "cell_type": "markdown",
   "metadata": {},
   "source": [
    "### Problem 3.2\n",
    "The characteristic equation for the frequencies of the doubly clamped linear beam is (see S. Timoshenko, _Vibration problems in Engineering_ (1937))\n",
    "$$\n",
    "\\cos(\\omega) \\cosh(\\omega) = 1.\n",
    "$$\n",
    "\n",
    "Implement an algorithm to numerically solve the above nonlinear equation find the first 5 frequencies of the beam."
   ]
  },
  {
   "cell_type": "markdown",
   "metadata": {},
   "source": [
    "### Problem 3.3\n",
    "\n",
    "Use inverse power method with a shift using the results from the previous problem to find the first 5 normal modes of the beam."
   ]
  }
 ],
 "metadata": {
  "kernelspec": {
   "display_name": "myenv",
   "language": "python",
   "name": "python3"
  },
  "language_info": {
   "codemirror_mode": {
    "name": "ipython",
    "version": 3
   },
   "file_extension": ".py",
   "mimetype": "text/x-python",
   "name": "python",
   "nbconvert_exporter": "python",
   "pygments_lexer": "ipython3",
   "version": "3.12.3"
  }
 },
 "nbformat": 4,
 "nbformat_minor": 2
}
