{
  "cells": [
    {
      "cell_type": "markdown",
      "metadata": {
        "ein.tags": [
          "worksheet-0"
        ],
        "id": "c46wACkoTKpI"
      },
      "source": [
        "# Numerical solution of nonlinear equations\n",
        "\n",
        "Given a function $f:I \\subseteq \\mathbb{R} \\to \\mathbb{R}$, we are dealing with the problem of finding $\\alpha\\in\\mathbb{R}$ such that $f(\\alpha)=0$. \n",
        "Methods to solve this kind pf problems are generally iterative, generating a sequence of numbers $x^{(k)}$ that will hopefully converge to $\\alpha$. \n",
        "\n",
        "\n",
        "In this exercise session we will focus on the following methods presented during the course:\n",
        "\n",
        "1. Bisection method\n",
        "2. Newton method\n",
        "3. Chord method\n",
        "4. Secant method\n",
        "5. Fixed point iterations\n",
        "\n",
        "In particular we will implement these methods and compare them by solving a given nonlinear equation.\n",
        "\n"
      ]
    },
    {
      "cell_type": "code",
      "execution_count": 1,
      "metadata": {
        "id": "2pMAlqJ-TKpK"
      },
      "outputs": [],
      "source": [
        "# Let us start importing everything we need\n",
        "from numpy import *\n",
        "\n",
        "from matplotlib.pyplot import *\n",
        "%matplotlib inline\n",
        "\n",
        "import sympy as sym"
      ]
    },
    {
      "cell_type": "code",
      "execution_count": 33,
      "metadata": {
        "autoscroll": "json-false",
        "colab": {
          "base_uri": "https://localhost:8080/",
          "height": 430
        },
        "ein.tags": [
          "worksheet-0"
        ],
        "id": "6ugsjAu8TKpL",
        "outputId": "463d46de-f46e-4c6a-9ef2-af7b7900cc9a"
      },
      "outputs": [],
      "source": [
        "t = sym.symbols('t')\n",
        "\n",
        "f_sym = t/8. * (63.*t**4 - 70.*t**2. +15.) # Legendre polynomial of order 5\n",
        "f_prime_sym = sym.diff(f_sym,t)\n",
        "\n",
        "f = sym.lambdify(t, f_sym, 'numpy')\n",
        "f_prime = sym.lambdify(t,f_prime_sym, 'numpy')\n"
      ]
    },
    {
      "cell_type": "code",
      "execution_count": null,
      "metadata": {},
      "outputs": [],
      "source": [
        "\n",
        "n = 1025\n",
        "\n",
        "x = linspace(-1,1,n)\n",
        "c = zeros_like(x)\n",
        "\n",
        "_ = plot(x,f(x))\n",
        "_ = plot(x,c)\n",
        "_ = grid()\n"
      ]
    },
    {
      "cell_type": "markdown",
      "metadata": {},
      "source": [
        "To compare the algorithms, we start from the same initial point and with the same tollerances and stopping criteria. "
      ]
    },
    {
      "cell_type": "code",
      "execution_count": 3,
      "metadata": {
        "id": "QynyKTJFTKpM"
      },
      "outputs": [],
      "source": [
        "# Initial data for the variuos algorithms\n",
        "\n",
        "# interval in which we seek the solution\n",
        "a = 0.75\n",
        "b = 1.\n",
        "\n",
        "# initial points\n",
        "x0 = (a+b)/2.0\n",
        "x00 = b\n"
      ]
    },
    {
      "cell_type": "code",
      "execution_count": 4,
      "metadata": {
        "id": "aElZ7UNzTKpM"
      },
      "outputs": [],
      "source": [
        "# stopping criteria\n",
        "eps = 1e-10\n",
        "n_max = 1000"
      ]
    },
    {
      "cell_type": "markdown",
      "metadata": {
        "id": "5pLZpXYUTKpN"
      },
      "source": [
        "## Bisection method\n",
        "\n",
        "This method is used to compute the roots a a _continous_ functio $f:[a,b]->\\mathbb{R}$. \n",
        "Theorem of existence of zeroes for continous fucntions states that if $f(a)f(b)<0$, then $f$ has at least one zero in $(a,b)$.\n",
        "By iteratively bisecting the interval, we can generate a sequence of intervals of exponentially decresing length $(a^{(k)},b^{(k)})$ such that, $\\forall k$, $\\alpha \\in (a^{(k)},b^{(k)})$."
      ]
    },
    {
      "cell_type": "code",
      "execution_count": 5,
      "metadata": {
        "colab": {
          "base_uri": "https://localhost:8080/",
          "height": 503
        },
        "id": "dIGkSCBaTKpN",
        "outputId": "dfa965ae-28b6-4318-a882-74cbc4b4a0f3"
      },
      "outputs": [],
      "source": [
        "def bisect(f,a,b,eps,n_max):\n",
        "\t'''\n",
        "\tImplementation of the bisection method. \n",
        "\tf funtion handle \n",
        "\ta,b interval where we look fothe root\n",
        "\teps stopping criterion threshold\n",
        "\tn_max max number of iterations \n",
        "\t'''\n",
        "\t\n",
        "\t# Check hypotheses\n",
        "\tassert f(a)*f(b)<0 \n",
        "\n",
        "\t# Initialization\n",
        "\ta_new = a\n",
        "\tb_new = b\n",
        "\tx = mean([a,b])\n",
        "\n",
        "\terr = 1+eps\n",
        "\terrors = [err]\n",
        "\tit = 0\n",
        "\t\n",
        "\twhile (err > eps and it < n_max):\n",
        "\n",
        "\t\tif ( f(a_new) * f(x) < 0 ):\n",
        "\t\t\t# root in (a_new,x)\n",
        "\t\t\tb_new = x\n",
        "\t\telse:\n",
        "\t\t\t# root in (x,b_new)\n",
        "\t\t\ta_new = x\n",
        "\n",
        "\t\tx_new = mean([a_new,b_new])\n",
        "\n",
        "\t\t# Error can be computed in different ways:\n",
        "\t\t#err = 0.5 *(b_new -a_new)\n",
        "\t\t# err = abs(f(x_new))\n",
        "\t\terr = abs(x-x_new)\n",
        "\n",
        "\t\t# Save error for output \n",
        "\t\terrors.append(err)\n",
        "\n",
        "\t\t# Update \n",
        "\t\tx = x_new\n",
        "\t\tit += 1\n",
        "\n",
        "\treturn x, it, errors"
      ]
    },
    {
      "cell_type": "code",
      "execution_count": null,
      "metadata": {},
      "outputs": [],
      "source": [
        "%time\n",
        "[alpha, iters_bisect, errors_bisect] = bisect(f,a,b,eps,n_max)"
      ]
    },
    {
      "cell_type": "code",
      "execution_count": null,
      "metadata": {},
      "outputs": [],
      "source": [
        "print(\"Bisection found root\",alpha,\"in\",iters_bisect,\"iterations.\")\n",
        "print(\"Residual on approximate solution is\",abs(f(alpha)))\n",
        "\n",
        "\n",
        "_=semilogy(errors_bisect)"
      ]
    },
    {
      "cell_type": "markdown",
      "metadata": {},
      "source": [
        "### Theoretical number of iterations to reach target accuracy\n",
        "At each iteration $k$ of the bisection method we have the zero $\\alpha\\in (a^{(k)},b^{(k)})$; we can therefore explicitly estimate the error at each step:\n",
        "$$ e^{(k)} := \\vert x^{(k)} - \\alpha \\vert \\leq \\frac{b^{(k)} - a^{(k)}}{2} = \\frac{b-a}{2^{k+1}}.$$\n",
        "\n",
        "If an accuracy $\\epsilon$ is desired, we can impose the bound\n",
        "$$ \\frac{b-a}{2^{k+1}} \\leq \\epsilon$$\n",
        "so that we can know _a priori_ the number of iterations $k_\\epsilon$ needed to obtaine the desidred accuracy:\n",
        "$$ k_\\epsilon \\geq  \\log_2\\left(\\frac{b-a}{\\epsilon}\\right) - 1.$$"
      ]
    },
    {
      "cell_type": "code",
      "execution_count": null,
      "metadata": {
        "id": "4BfXBHPuTKpN"
      },
      "outputs": [],
      "source": [
        "it_theor = (log(abs(b-a)) - log(eps))/log(2)\n",
        "print(it_theor)"
      ]
    },
    {
      "cell_type": "markdown",
      "metadata": {
        "id": "BWbkx5oaTKpO"
      },
      "source": [
        "## Newton's method\n",
        "\n",
        "In order to find out other methods for solving non-linear equations, let's compute the Taylor's series of $f(x)$ up to the first order near $x^{(k)}$:\n",
        "$$\n",
        "f(x) \\simeq f(x^{(k)}) + (x-x^{(k)})f^{\\prime}(x^{(k)})\n",
        "$$\n",
        "which suggests the following iterative scheme\n",
        "$$\n",
        "x^{(k+1)} = x^{(k)} - \\frac{f(x^{(k)})}{f^{\\prime}(x^{(k)})}\n",
        "$$\n",
        "known as the Newton method."
      ]
    },
    {
      "cell_type": "code",
      "execution_count": 8,
      "metadata": {
        "colab": {
          "base_uri": "https://localhost:8080/",
          "height": 521
        },
        "id": "wL-eP-13TKpP",
        "outputId": "6ad04ec5-a89b-43c1-c097-cfa27b9c37ad"
      },
      "outputs": [],
      "source": [
        "def newton(f,f_prime,x0,eps,n_max):\n",
        "\t'''\n",
        "\tImplementation of Newton method.\n",
        "\t'''\n",
        "\n",
        "\t# Check on inital guess\n",
        "\tassert abs(f_prime(x0))>1e-16\n",
        "\t\n",
        "\t# Initialization\n",
        "\terr = abs(f(x0))\n",
        "\terrors = [err]\n",
        "\tit = 0\n",
        "\tx = x0\n",
        "\n",
        "\t# Iteration\n",
        "\twhile (err > eps and it < n_max):\n",
        "\n",
        "\t\tqk = f_prime(x)\n",
        "\t\t\n",
        "\t\tif abs(qk) < 1e-12:\n",
        "\t\t\traise RuntimeError(\"f_prime(x) is close to zero\")\n",
        "\t\t\n",
        "\t\t# Update\n",
        "\t\tx_new = x - f(x)/qk\n",
        "\t\terr = abs(f(x_new))\n",
        "\t\terrors.append(err)\n",
        "\t\tx = x_new\n",
        "\t\tit +=1\n",
        "\t\n",
        "\treturn x, it, errors"
      ]
    },
    {
      "cell_type": "code",
      "execution_count": null,
      "metadata": {},
      "outputs": [],
      "source": [
        "\n",
        "%time\n",
        "[alpa, iters_newton, errors_newton] = newton(f,f_prime,1.0,eps,n_max)\n"
      ]
    },
    {
      "cell_type": "code",
      "execution_count": null,
      "metadata": {
        "id": "qeuOf-HBp96s"
      },
      "outputs": [],
      "source": [
        "print(\"Newton found root\",alpha,\"in\",iters_newton,\"iterations.\")\n",
        "print(\"Residual on approximate solution is\",abs(f(alpha)))\n",
        "_=semilogy(errors_newton)"
      ]
    },
    {
      "cell_type": "markdown",
      "metadata": {
        "id": "bPhiWSK6TKpP"
      },
      "source": [
        "## Chord method\n",
        "\n",
        "$$\n",
        "q^{(k)} \\equiv q = \\frac{f(b)-f(a)}{b-a}\n",
        "$$\n",
        "\n",
        "$$\n",
        "x^{(k+1)} = x^{(k)} - \\frac{f(x^{(k)})}{q}\n",
        "$$"
      ]
    },
    {
      "cell_type": "code",
      "execution_count": 24,
      "metadata": {
        "autoscroll": "json-false",
        "colab": {
          "base_uri": "https://localhost:8080/",
          "height": 485
        },
        "ein.tags": [
          "worksheet-0"
        ],
        "id": "CKZEJKbnTKpP",
        "outputId": "40e4d920-5086-4eb8-bb03-8ba00114c0f2"
      },
      "outputs": [],
      "source": [
        "def chord(f,a,b,x0,eps,n_max):\n",
        "\t'''\n",
        "\tImplementation of chord method.\n",
        "\t'''\n",
        "\tq = (f(b) - f(a))/(b-a)\n",
        "\terr = eps +1.\n",
        "\terrors = [err]\n",
        "\tit = 0\n",
        "\tx = x0\n",
        "\twhile (err > eps and it < n_max):\n",
        "\t\tx_new = x - f(x)/q\n",
        "\t\terr = abs(x_new - x)\n",
        "\t\terrors.append(err)\n",
        "\t\tx = x_new\n",
        "\t\tit += 1\n",
        "\t\t\n",
        "\treturn x, it, errors"
      ]
    },
    {
      "cell_type": "code",
      "execution_count": null,
      "metadata": {},
      "outputs": [],
      "source": [
        "[alpha, iters_chord, errors_chords] = chord(f,a,b,x0,eps,n_max)\n",
        "print(\"Chords found root\",alpha,\"in\",iters_chord,\"iterations.\")\n",
        "print(\"Residual on approximate solution is\",abs(f(alpha)))\n",
        "_=semilogy(errors_chords)"
      ]
    },
    {
      "cell_type": "markdown",
      "metadata": {
        "id": "U-XbFxDQTKpP"
      },
      "source": [
        "## Secant method\n",
        "\n",
        "$$\n",
        "q^{(k)} = \\frac{f(x^{(k)})-f(x^{(k-1)})}{x^{(k)} - x^{(k-1)}}\n",
        "$$\n",
        "\n",
        "$$\n",
        "x^{k+1} = x^{(k)} - \\frac{f(x^{(k)})}{q^{(k)}}\n",
        "$$\n",
        "\n",
        "Note that this algorithm requires **two** initial points"
      ]
    },
    {
      "cell_type": "code",
      "execution_count": 28,
      "metadata": {
        "colab": {
          "base_uri": "https://localhost:8080/",
          "height": 485
        },
        "id": "wFKpGFpmTKpQ",
        "outputId": "2c90f714-a355-4b58-849b-57bd7b58fdf6"
      },
      "outputs": [],
      "source": [
        "def secant(f,x0,x00,eps,n_max):\n",
        "    err = eps +1.\n",
        "    errors = [err]\n",
        "    it = 0\n",
        "    xk = x0\n",
        "    xkk = x00\n",
        "\n",
        "    while (err > eps and it < n_max):\n",
        "          qk = (f(xk) - f(xkk))/(xk - xkk)\n",
        "          x_new = xk - f(xk)/qk\n",
        "          err = abs(x_new - xk)\n",
        "          xkk = xk\n",
        "          xk = x_new\n",
        "          errors.append(err)\n",
        "          it += 1\n",
        "    return xk, it, errors\n"
      ]
    },
    {
      "cell_type": "code",
      "execution_count": null,
      "metadata": {},
      "outputs": [],
      "source": [
        "[alpha, iters_secant, errors_secant] = secant(f,x0,x00,eps,n_max)\n",
        "print(\"Secant found root\",alpha,\"in\",iters_secant,\"iterations.\")\n",
        "print(\"Residual on approximate solution is\",abs(f(alpha)))\n",
        "_=semilogy(errors_secant)"
      ]
    },
    {
      "cell_type": "markdown",
      "metadata": {
        "id": "IY5KPR5mTKpQ"
      },
      "source": [
        "## Fixed point iterations\n",
        "\n",
        "$$\n",
        "f(x)=0 \\to x-\\phi(x)=0\n",
        "$$\n",
        "\n",
        "$$\n",
        "x^{k+1} = \\phi(x^{(k)})\n",
        "$$\n",
        "\n",
        "\n",
        "We want to solve $f = \\dfrac{t}{8}\\left(63 t^4 - 70 t^2 + 15\\right) = 0$. Then we can focus our attention on the roots finding of $f_1 = 63 t^4 - 70 t^2 + 15$.\n",
        "\n",
        "We recast $f_1(t)$ in terms of $t - \\phi(t)$. We consider different ways to go:\n",
        "\n",
        "Dividing by $70t$:\n",
        "\n",
        "$\\dfrac{63}{70}t^3 - t + \\dfrac{15}{70t} = 0$ $\\implies$ $\\phi_1 = \\dfrac{63}{70}t^3 + \\dfrac{15}{70t}$\n",
        "\n",
        "Dividing by $63t^3$:\n",
        "\n",
        "$t - \\dfrac{70}{63t} + \\dfrac{15}{63t^3} = 0$ $\\implies$ $\\phi_2 = \\dfrac{70}{63t} - \\dfrac{15}{63t^3}$\n",
        "\n",
        "\n",
        "Multiplying by $\\dfrac{t}{15}$:\n",
        "\n",
        "$\\dfrac{63}{15}t^5 - \\dfrac{70}{15}t^3 + t  = 0$ $\\implies$ $\\phi_3 = -\\dfrac{63}{15}t^5 + \\dfrac{70}{15}t^3$\n",
        "\n",
        "Finally:\n",
        "\n",
        "$70t^2 = 63t^4 + 15$ $\\implies$ $t = \\sqrt{\\dfrac{63t^4 + 15}{70}}$ $\\implies$ $\\phi_4 = \\sqrt{\\dfrac{63t^4 + 15}{70}}$"
      ]
    },
    {
      "cell_type": "code",
      "execution_count": 35,
      "metadata": {},
      "outputs": [],
      "source": [
        "#phi = lambda x : 63./70.*x**3 + 15./(70.*x)\n",
        "phi = lambda x : 70.0/(63.*x) - 15/(63*x**3)\n",
        "#phi = lambda x : 70.0/15.0*x**3 - 63.0/15.0*x**5\n",
        "#phi = lambda x : sqrt((63.*x**4 + 15.0)/70.)\n",
        "\n",
        "#phi_prime = lambda x : 63./70.*3*x**2 - 15./(70.*x**2)\n",
        "phi_prime = lambda x : -70./(63*x**2) + 15.*3./(63.*x**4)\n",
        "#phi_prime = lambda x : 70./15.0*3*x**2 - 63.0/15.0*5*x**4\n",
        "#phi_prime = lambda x : 1.0/(2.0*sqrt((63.*x**4 + 15.0)/70.))*(63.*4*x**3/70.)\n",
        "\n",
        "#print(abs(phi_prime(0.95)))\n",
        "#phi_prime ="
      ]
    },
    {
      "cell_type": "code",
      "execution_count": null,
      "metadata": {
        "colab": {
          "base_uri": "https://localhost:8080/",
          "height": 503
        },
        "id": "sVDqVn3fTKpQ",
        "outputId": "ab63c40d-096c-4aeb-b163-69252871af68"
      },
      "outputs": [],
      "source": [
        "def fixed_point(phi,x0,eps,n_max):\n",
        "\tx = x0\n",
        "\terr = eps + 1.\n",
        "\terrors = [err]\n",
        "\tit = 0\n",
        "\twhile (err > eps and it < n_max):\n",
        "\t\tx_new = phi(x)\n",
        "\t\terr = abs (x_new - x)\n",
        "\t\tx = x_new\n",
        "\t\tit +=1\n",
        "\t\terrors.append(err)\n",
        "\n",
        "\treturn x, it, errors\n",
        "\n",
        "[alpha, iters_fixed, errors_fixed] = fixed_point(phi,0.8,eps,n_max)\n",
        "print(\"Secant found root\",alpha,\"in\",iters_fixed,\"iterations.\")\n",
        "print(\"Residual on approximate solution is\",abs(f(alpha)))\n",
        "_=semilogy(errors_fixed)"
      ]
    },
    {
      "cell_type": "markdown",
      "metadata": {
        "id": "Aeth4eJNTKpQ"
      },
      "source": [
        "## Comparison"
      ]
    },
    {
      "cell_type": "code",
      "execution_count": null,
      "metadata": {
        "colab": {
          "base_uri": "https://localhost:8080/",
          "height": 430
        },
        "id": "LR4sn9nPTKpQ",
        "outputId": "3991a823-814d-4373-a5ee-6801b0af7b97"
      },
      "outputs": [],
      "source": [
        "# plot the error convergence for the methods\n",
        "semilogy(errors_bisect, label='bisect')\n",
        "semilogy(errors_chords, label='chord')\n",
        "semilogy(errors_secant, label='secant')\n",
        "semilogy(errors_newton, label ='newton')\n",
        "semilogy(errors_fixed, label ='fixed')\n",
        "_ = legend()"
      ]
    },
    {
      "cell_type": "code",
      "execution_count": null,
      "metadata": {},
      "outputs": [],
      "source": []
    }
  ],
  "metadata": {
    "anaconda-cloud": {},
    "colab": {
      "provenance": []
    },
    "kernelspec": {
      "display_name": "Python 3",
      "language": "python",
      "name": "python3"
    },
    "language_info": {
      "codemirror_mode": {
        "name": "ipython",
        "version": 3
      },
      "file_extension": ".py",
      "mimetype": "text/x-python",
      "name": "python",
      "nbconvert_exporter": "python",
      "pygments_lexer": "ipython3",
      "version": "3.10.12"
    },
    "name": "07_non_linear_equations.ipynb"
  },
  "nbformat": 4,
  "nbformat_minor": 0
}
