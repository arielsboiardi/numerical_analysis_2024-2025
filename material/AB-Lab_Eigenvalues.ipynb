{
 "cells": [
  {
   "cell_type": "markdown",
   "metadata": {},
   "source": [
    "# Eigenvalue and eigenvectors calculation\n",
    "\n",
    "By definition, given a matrix $A$, we say that $\\lambda \\in \\mathbb{C}$ is an _eigenvalue_ of $A$ if $\\exist \\mathbf{x} \\neq 0$ such that $A \\mathbf{x} = \\lambda \\mathbf{x}$. The vector $\\mathbf{x}$ is called an eigenvector relative to $\\lambda$. "
   ]
  },
  {
   "cell_type": "markdown",
   "metadata": {},
   "source": [
    "## Power iteration\n",
    "\n",
    "- Find the largest eigenvalue $\\lambda_{\\max}$\n",
    "\\begin{align*}\n",
    "\\mathbf{q}_k & = \\frac{\\mathbf{z}_{k-1}}{\\|\\mathbf{z}_{k-1}\\|_2}\\\\\n",
    "\\mathbf{z}_k & = A\\mathbf{q}_{k}\\\\\n",
    "\\lambda_{\\max}^k & = \\mathbf{q}^T_k \\mathbf{z}_k\n",
    "\\end{align*}"
   ]
  },
  {
   "cell_type": "code",
   "execution_count": null,
   "metadata": {},
   "outputs": [],
   "source": [
    "import numpy as\tnp\n",
    "import matplotlib.pyplot as plt"
   ]
  },
  {
   "cell_type": "code",
   "execution_count": 11,
   "metadata": {},
   "outputs": [
    {
     "name": "stdout",
     "output_type": "stream",
     "text": [
      "[[128. -64.   0.   0.   0.   0.   0.   0.   0.]\n",
      " [-64. 128. -64.   0.   0.   0.   0.   0.   0.]\n",
      " [  0. -64. 128. -64.   0.   0.   0.   0.   0.]\n",
      " [  0.   0. -64. 128. -64.   0.   0.   0.   0.]\n",
      " [  0.   0.   0. -64. 128. -64.   0.   0.   0.]\n",
      " [  0.   0.   0.   0. -64. 128. -64.   0.   0.]\n",
      " [  0.   0.   0.   0.   0. -64. 128. -64.   0.]\n",
      " [  0.   0.   0.   0.   0.   0. -64. 128. -64.]\n",
      " [  0.   0.   0.   0.   0.   0.   0. -64. 128.]]\n"
     ]
    }
   ],
   "source": [
    "n = 9\n",
    "h = 1./(n-1)\n",
    "\n",
    "x=np.linspace(0,1,n)\n",
    "\n",
    "a = -np.ones((n-1,))\n",
    "b = 2*np.ones((n,))\n",
    "A = (np.diag(a, -1) + np.diag(b, 0) + np.diag(a, +1))\n",
    "\n",
    "A /= h**2\n",
    "\n",
    "print(A)"
   ]
  },
  {
   "cell_type": "code",
   "execution_count": null,
   "metadata": {},
   "outputs": [
    {
     "name": "stdout",
     "output_type": "stream",
     "text": [
      "Largest eigenvalue: 249.7351578756851, found in 39 iterations\n",
      "Numpy largest eigenvalue: 249.7352340857797\n"
     ]
    }
   ],
   "source": [
    "\n",
    "\n",
    "def PM(A,z0=None,tol=1e-5,nmax=500):\n",
    "\t\"\"\"\n",
    "\tPower method for the computation of the largest eigenvalue of a matrix A\n",
    "\t\"\"\"\n",
    "\t\n",
    "\tn,m = A.shape\n",
    "\tassert n == m, \"Matrix must be square\"\n",
    "\t\n",
    "\tif z0 is None:\n",
    "\t\tz0 = np.ones(n)\n",
    "\t\t\n",
    "\tq = z0/np.linalg.norm(z0,2) # normalize initial guess\n",
    "\tit = 0\n",
    "\terr = tol + 1.\n",
    "\twhile it < nmax and err > tol:\n",
    "\t\tz = A@q # iteration\n",
    "\t\tl = q.T@z \n",
    "\t\tq = z/np.linalg.norm(z,2)\n",
    "\t\terr = np.linalg.norm(z-l*q,2)\n",
    "\t\t\n",
    "\t\tit += 1\n",
    "\n",
    "\treturn l,q,it\n",
    "\n",
    "l,x,power_iter_count = PM(A)\n",
    "\n",
    "print(f\"Largest eigenvalue: {l}, found in {power_iter_count} iterations\")\n",
    "print(f\"Numpy largest eigenvalue: {np.linalg.eig(A)[0].max()}\")\n",
    "\n"
   ]
  },
  {
   "cell_type": "markdown",
   "metadata": {},
   "source": [
    "## Inverse power method\n",
    "- Find the eigenvalue $\\lambda$ **closest** to $\\mu$\n",
    "\\begin{align}\n",
    "M & = A-\\mu I\\\\\n",
    "& \\\\\n",
    "M\\mathbf{x}_k &= \\mathbf q_{k-1}\\\\\n",
    "\\mathbf{q}_k & = \\frac{\\mathbf{x}_k}{\\|\\mathbf{x}_k\\|_2}\\\\\n",
    "\\mathbf{z}_k & = A\\mathbf{q}_{k}\\\\\n",
    "\\lambda^k & = \\mathbf{q}^T_k \\mathbf{z}_k\n",
    "\\end{align}\n"
   ]
  },
  {
   "cell_type": "code",
   "execution_count": null,
   "metadata": {},
   "outputs": [],
   "source": [
    "def IPM(A, z0=None, mu=0, tol=1e-5, nmax=500):\n",
    "\t\"\"\"\n",
    "\tInverse Power Method for the computation of the eigenvalue of a matrix A closest to mu\n",
    "\t\"\"\"\n",
    "\t\n"
   ]
  },
  {
   "cell_type": "code",
   "execution_count": 32,
   "metadata": {},
   "outputs": [
    {
     "name": "stdout",
     "output_type": "stream",
     "text": [
      "Eigenvalue: 52.76348770656334, found in 9 iterations\n"
     ]
    }
   ],
   "source": [
    "l,x,inverse_power_iter_count = IPM(A, mu=60)\n",
    "print(f\"Eigenvalue: {l}, found in {inverse_power_iter_count} iterations\")\n"
   ]
  }
 ],
 "metadata": {
  "kernelspec": {
   "display_name": "myenv",
   "language": "python",
   "name": "python3"
  },
  "language_info": {
   "codemirror_mode": {
    "name": "ipython",
    "version": 3
   },
   "file_extension": ".py",
   "mimetype": "text/x-python",
   "name": "python",
   "nbconvert_exporter": "python",
   "pygments_lexer": "ipython3",
   "version": "3.12.3"
  }
 },
 "nbformat": 4,
 "nbformat_minor": 2
}
