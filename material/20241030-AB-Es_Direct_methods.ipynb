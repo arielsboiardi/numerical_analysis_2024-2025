{
 "cells": [
  {
   "cell_type": "markdown",
   "metadata": {},
   "source": [
    "# Direct methods for the numerical solution of linear systems\n",
    "\n",
    "We are dealing with systems of linear equations, written in compact form using matrix-vector multiplications as \n",
    "$$ \n",
    "Ax=b,\\quad \n",
    "\\begin{array}{l}\n",
    "\tA\\in\\mathbb R^{n\\times n}\\\\\n",
    "\tb\\in \\mathbb R^n\\\\\n",
    "\tx = (x_i)\\in\\mathbb R^n\n",
    "\\end{array}$$\n",
    "where $A = (a_{i,j})$ is a given $n\\times n$ matrix, the right-hand side ${b} = (b_i)$ is a given vector and ${x} = (x_j)$ is the unknown vector we want to determine. \n",
    "We know from linear algebra that if $\\det \\mathbf{A} \\neq 0$, the systems admits a unique solution. \n",
    "\n",
    "Problems of this kind are ubiquitous in applied mathematics; it is therefore important to be able to solve them accurately and using as little computational resources as possible. \n",
    "\n",
    "By an algebraic viewpoint, a linear system is quite easy: the theory allows to determine existence and uniqueness of solutions and we know Cramer's rule that allows to compute the solution explicitly:\n",
    "$$ \n",
    "x_k = \\frac{\\det [A]_k}{\\det A} \\quad k=1,\\ldots,n\n",
    "$$\n",
    "\n",
    "The problem comes when the sze of the system $n$ becomes larger than $20$, as the computational cost of Cramer's algorithm scales like $(n+1)!$."
   ]
  },
  {
   "cell_type": "markdown",
   "metadata": {},
   "source": [
    "## Gaussian elimination method\n",
    "\n",
    "If we were able to factorize the matrix $A$ into a product \n",
    "$$ A = LU $$ \n",
    "with $L$ lower triangular and $U$ upper triangular, we could solve \n",
    "$$ \n",
    "LU x = b \\implies\n",
    "\\left\\{\n",
    "\\begin{array}{l}\n",
    "\tLy = b \\to \\text{Forward substitution, $\\mathcal{O}(n^2)$ flops} \\\\\n",
    "\tUx = y \\to \\text{Backward substitution, $\\mathcal{O}(n^2)$ flops}\n",
    "\\end{array}\n",
    "\\right.\n",
    "$$"
   ]
  },
  {
   "cell_type": "markdown",
   "metadata": {},
   "source": [
    "### Forward and backward substitution\n",
    "\n",
    "#### Forward\n",
    "\n",
    "$$\n",
    "Ly = b \\to \n",
    "\\left\\{\n",
    "\\begin{array}{l}\n",
    "\tl_{11}y_1 = b_1\\\\\n",
    "\tl_{21}y_1 + l_{22}y_2 = b_2\\\\\n",
    "\t\\vdots \\\\\n",
    "\tl_{n1}y_1+l_{n2}y_2 + \\cdots + l_{nn}y_n = b_n\n",
    "\\end{array}\n",
    "\\right.\n",
    "$$\n"
   ]
  },
  {
   "cell_type": "markdown",
   "metadata": {},
   "source": [
    "$$\n",
    "\\begin{array}{l}\n",
    "y_{1} = \\frac{b_1}{l_{11}} \\\\\n",
    "y_{i} = \\frac{1}{l_{ii}}(b_i - \\sum_{j=1}^{i-1} l_{ij} y_j)\n",
    "\\end{array}\n",
    "$$"
   ]
  },
  {
   "cell_type": "markdown",
   "metadata": {},
   "source": [
    "\n",
    "#### Backward\n",
    "\n",
    "\n",
    "$$\n",
    "Ux = y \\to \n",
    "\\left\\{\n",
    "\\begin{array}{l}\n",
    "u_{11}x_1+\\cdots + u_{n-1,n-1}x_{n-1} + u_{nn}x_n = y_n \\\\\n",
    "\\vdots \\\\\n",
    "u_{n-1,n-1}x_{n-1} + u_{nn}x_n = y_{n-1}\\\\\n",
    "u_{nn}x_n = y_n\\\\\n",
    "\\end{array}\n",
    "\\right.\n",
    "$$"
   ]
  },
  {
   "cell_type": "markdown",
   "metadata": {},
   "source": [
    "### Gaussian elimination algorithm\n",
    "Given the matrix \n",
    "$$\n",
    "A=\n",
    "\\begin{bmatrix}\n",
    "a_{11} & a_{12} & \\cdots & a_{1n} \\\\ \n",
    "a_{21} & a_{22} &  \t\t & a_{2n} \\\\ \n",
    "\\vdots &  \t\t& \\ddots & \\vdots \\\\ \n",
    "a_{n1} & a_{n2} & \\cdots & a_{nn}\n",
    "\\end{bmatrix}\n",
    "$$\n",
    "we start by eliminating all entries below $a_{11}$; this can be done by carefully subtracting entries of $A$ as follows: assuming $a_{11}\\neq 0$, define \n",
    "$$l_{i1} = \\frac{a_{i1}}{a_{11}}$$\n",
    "and update the matrix\n",
    "$$\n",
    "a_{ij} \\leftarrow a_{ij} - l_{i1} a_{1j},\\quad{i,j=2,\\ldots,n}.\n",
    "$$\n",
    "\n",
    "After this step we are left with a new matrix \n",
    "$$\n",
    "A'=\n",
    "\\begin{bmatrix}\n",
    "a_{11} & a_{12} & \\cdots & a_{1n} \\\\ \n",
    "0 & a_{22}' &  \t\t & a_{2n}' \\\\ \n",
    "\\vdots &  \t\t& \\ddots & \\vdots \\\\ \n",
    "0 & a_{n2}' & \\cdots & a_{nn}'\n",
    "\\end{bmatrix}\n",
    "$$\n",
    "Repeating the procedure $n-1$ times we get the desired factorization, because the the after the $n$-th transformations, $A$ is upper triangular and the sequence of multipliers $l_{ik},\\ i=k+1,\\ldots,n$ defines a lower triangular matrix. \n",
    "\n",
    "**Important** \n",
    "Of course, if we want to solve a linear system, all operations performed on $A$ need to be performed also on the right-hand side. \n",
    "\n",
    "So the general formulas are \n",
    "$$\n",
    "\\begin{array}{l}\n",
    "\tl_{ik} = \\frac{a^{(k)}_{ik}}{a^{(k)}_{kk}},\\quad i=k+1,\\ldots,n \\\\\n",
    "\ta^{(k+1)}_{ij} = a^{(k)}_{ij} - l_{ik} a^{(k)}_{kj},\\quad i,j= k+1,\\ldots, n \\\\\n",
    "\tb_i^{(k+1)} = b_i^{(k)} - l_{ik} a^{(k)}_{kj},\\quad i= k+1,\\ldots, n.\n",
    "\\end{array}\n",
    "$$"
   ]
  },
  {
   "cell_type": "code",
   "execution_count": 1,
   "metadata": {
    "id": "p_7e8E2zuS9X"
   },
   "outputs": [],
   "source": [
    "def LU(A):\n",
    "    '''\n",
    "    Implementation of Gaussian elimination\n",
    "    '''\n",
    "    A = A.copy()\n",
    "    N=len(A)\n",
    "    \n",
    "    for k in range(N-1):\n",
    "        if (abs(A[k,k]) < 1e-15):\n",
    "            raise RuntimeError(\"Null pivot\")\n",
    "\n",
    "        A[k+1:N,k] /= A[k,k]\n",
    "        for j in range(k+1,N):\n",
    "            A[k+1:N,j] -= A[k+1:N,k]*A[k,j]\n",
    "\n",
    "    L=tril(A)\n",
    "    for i in range(N):\n",
    "        L[i,i]=1.0\n",
    "\n",
    "    U = triu(A)\n",
    "    \n",
    "    return L, U"
   ]
  },
  {
   "cell_type": "markdown",
   "metadata": {},
   "source": [
    "### Forward substitution\n",
    "$$\n",
    "Ly = b,\\quad\\text{$L$ lower triangular}\n",
    "$$\n",
    "\n",
    "$$\n",
    "\\begin{array}{l}\n",
    "y_1 = \\frac{b_1}{l_{11}} \\\\\n",
    "y_i = \\frac{1}{l_{ii}} \\left( b_i - \\sum_{j=1}^{i-1} l_{ij}y_j \\right)\n",
    "\\end{array}\n",
    "$$"
   ]
  },
  {
   "cell_type": "code",
   "execution_count": 2,
   "metadata": {
    "id": "2c8-bjG1u7mr"
   },
   "outputs": [],
   "source": [
    "# forward substitution\n",
    "\n",
    "def L_solve(L,rhs):\n",
    "    x = zeros_like(rhs)\n",
    "    N = len(L)\n",
    "\n",
    "    x[0] = rhs[0]/L[0,0]\n",
    "    for i in range(1,N):\n",
    "        x[i] = (rhs[i] - dot(L[i, 0:i], x[0:i]))/L[i,i]\n",
    "\n",
    "    return x"
   ]
  },
  {
   "cell_type": "markdown",
   "metadata": {},
   "source": [
    "### Backward substitution\n",
    "$$\n",
    "Ux = y,\\quad\\text{$U$ upper triangular}\n",
    "$$\n",
    "\n",
    "$$\n",
    "\\begin{array}{l}\n",
    "x_n = \\frac{y_n}{u_{nn}} \\\\\n",
    "x_i = \\frac{1}{u_{ii}} \\left( y_i - \\sum_{j=i+1}^{n} u_{ij}x_j \\right)\n",
    "\\end{array}\n",
    "$$"
   ]
  },
  {
   "cell_type": "code",
   "execution_count": 3,
   "metadata": {
    "id": "sZz4H1-RvsY4",
    "tags": [
     "hide-code"
    ]
   },
   "outputs": [],
   "source": [
    "# backward substitution\n",
    "\n",
    "def U_solve(U,rhs):\n",
    "    x = zeros_like(rhs)\n",
    "    N = len(U)\n",
    "\n",
    "    x[-1] = rhs[-1]/U[-1,-1]\n",
    "    for i in reversed(range(N-1)):\n",
    "        x[i] = (rhs[i] - dot(U[i, i+1:N], x[i+1:N]))/U[i,i]\n",
    "\n",
    "    return x"
   ]
  },
  {
   "cell_type": "markdown",
   "metadata": {},
   "source": [
    "## Application: Finite Differences solution of a boundary value problem\n",
    "Let us consider the following boundary value problem \n",
    "$$\n",
    "\\left\\{\n",
    "\\begin{array}{l}\n",
    "\t-u''(x) = f(x) \\quad\\text{in $(0,1)$} \\\\\n",
    "\tu(0) = u(1) = 0,\n",
    "\\end{array}\n",
    "\\right.\n",
    "$$\n",
    "which models an elastic string, which occupies at rest the space $[0,1]$ and is fixed at the two extremes. The unknown $u(x)$ represents the displacement of the string at the point $x$, and the right-hand side models a prescribed force $f(x)$ on the string.\n"
   ]
  },
  {
   "cell_type": "markdown",
   "metadata": {},
   "source": [
    "For the numerical discretization of the problem, we consider a **Finite Difference (FD) Approximation**. Let $n$ be an integer, a consider a uniform subdivision of the interval $(0,1)$ using $n$ equispaced points, denoted by $\\{x_i\\}_{i=0}^n$ . Moreover, let $u_i$ be the FD approximation of $u(x_i)$, and similarly $f_i \\approx f(x_i)$.\n",
    "\n",
    "In order to formulate the discrete problem, we consider a FD approximation of the left-hand side, as follows:\n",
    "$$\n",
    "-u_{xx}(x_i) \\approx \\frac{-u_{i-1} + 2u_i - u_{i+1}}{h^2}\n",
    "$$\n",
    "being $h = \\frac{1}{n-1}$ the size of each subinterval $(x_i, x_{i+1})$.\n",
    "\n",
    "The problem that we need to solve is\n",
    "$$\n",
    "u_i = 0 \\qquad\\qquad\\qquad\\qquad i=0,\n",
    "$$\n",
    "$$\n",
    "\\frac{-u_{i-1} + 2u_i - u_{i+1}}{h^2} = f_i \\qquad\\qquad\\qquad i=1, \\ldots, n-1,\\qquad\\qquad\\qquad(P)\n",
    "$$\n",
    "$$\n",
    "u_i = 0 \\qquad\\qquad\\qquad\\qquad i=n.\n",
    "$$\n",
    "\n",
    "Then, let us collect al the unknowns $\\{u_i\\}_{i=0}^n$ in a vector $\\mathbf{u}$. Then, (P) is a linear system\n",
    "$$\n",
    "A \\mathbf{u} = \\mathbf{f}.\n",
    "$$"
   ]
  },
  {
   "cell_type": "code",
   "execution_count": 4,
   "metadata": {
    "colab": {
     "base_uri": "https://localhost:8080/"
    },
    "id": "QtHCllsCnNln",
    "outputId": "dcf712bf-61ba-4aa3-ecc9-234661fee5fc"
   },
   "outputs": [],
   "source": [
    "from numpy import *\n",
    "from matplotlib.pyplot import *\n",
    "%matplotlib inline"
   ]
  },
  {
   "cell_type": "code",
   "execution_count": 5,
   "metadata": {
    "id": "EKMVMqJanYMo"
   },
   "outputs": [],
   "source": [
    "n = 30\n",
    "h = 1/(n-1)\n",
    "\n",
    "x = linspace(0,1,n)"
   ]
  },
  {
   "cell_type": "code",
   "execution_count": 6,
   "metadata": {
    "id": "DkORfeAnniFP"
   },
   "outputs": [],
   "source": [
    "# define matrix A\n",
    "a = -ones((n-1))\n",
    "b = 2*ones((n))\n",
    "A = (1/h**2)*(diag(a,-1)+diag(b)+diag(a,1))\n",
    "\n",
    "# modify A to impose boundary conditions\n",
    "A[0,:] = 0\n",
    "A[:,0] = 0\n",
    "A[0,0] = 1\n",
    "\n",
    "A[-1,:] = 0\n",
    "A[:,-1] = 0\n",
    "A[-1,-1] = 1"
   ]
  },
  {
   "cell_type": "markdown",
   "metadata": {},
   "source": [
    "### Forcing term and exact solution\n",
    "\n",
    "If we set $f(x) = x(1-x)$, the exact solution of the problem is $u(x) = \\frac{x^4}{12} - \\frac{x^3}{6} + \\frac{x}{12}$."
   ]
  },
  {
   "cell_type": "code",
   "execution_count": 7,
   "metadata": {},
   "outputs": [
    {
     "data": {
      "text/plain": [
       "[<matplotlib.lines.Line2D at 0x7f3a1680e8c0>]"
      ]
     },
     "execution_count": 7,
     "metadata": {},
     "output_type": "execute_result"
    },
    {
     "data": {
      "image/png": "[encoded data removed]",
      "text/plain": [
       "<Figure size 640x480 with 1 Axes>"
      ]
     },
     "metadata": {},
     "output_type": "display_data"
    }
   ],
   "source": [
    "# forcing term\n",
    "f = x*(1.-x)\n",
    "\n",
    "# Exact solution \n",
    "u_ex = (x**4)/12. - (x**3)/6. + x/12.\n",
    "\n",
    "plot(x,f)"
   ]
  },
  {
   "cell_type": "code",
   "execution_count": 8,
   "metadata": {
    "colab": {
     "base_uri": "https://localhost:8080/",
     "height": 308
    },
    "id": "WgziLp9zq4nN",
    "outputId": "992d5fc7-a5a7-44fb-e2ed-ceaf12b309fd"
   },
   "outputs": [
    {
     "data": {
      "text/plain": [
       "<matplotlib.legend.Legend at 0x7f3a146c63b0>"
      ]
     },
     "execution_count": 8,
     "metadata": {},
     "output_type": "execute_result"
    },
    {
     "data": {
      "image/png": "[encoded data removed]",
      "text/plain": [
       "<Figure size 640x480 with 1 Axes>"
      ]
     },
     "metadata": {},
     "output_type": "display_data"
    }
   ],
   "source": [
    "# solve the system using numpy\n",
    "u = linalg.solve(A, f)\n",
    "\n",
    "# plot the FD and exact solution\n",
    "plot(x,u,'ro',label = 'FD')\n",
    "plot(x,u_ex, label = 'Exact')\n",
    "legend()"
   ]
  },
  {
   "cell_type": "code",
   "execution_count": 9,
   "metadata": {
    "colab": {
     "base_uri": "https://localhost:8080/",
     "height": 308
    },
    "id": "BgHmrDBTv0e5",
    "outputId": "72e7b072-a446-4ff8-fe22-d5ca1a6bff77"
   },
   "outputs": [
    {
     "data": {
      "image/png": "[encoded data removed]",
      "text/plain": [
       "<Figure size 640x480 with 1 Axes>"
      ]
     },
     "metadata": {},
     "output_type": "display_data"
    }
   ],
   "source": [
    "# LU factorization to solve the system\n",
    "\n",
    "L, U = LU(A)\n",
    "w = L_solve(L,f)\n",
    "u = U_solve(U,w)\n",
    "\n",
    "plot(x,u,'ro',label='computed')\n",
    "plot(x,u_ex,label='exact')\n",
    "_=legend()"
   ]
  },
  {
   "cell_type": "code",
   "execution_count": 10,
   "metadata": {},
   "outputs": [
    {
     "data": {
      "image/png": "[encoded data removed]",
      "text/plain": [
       "<Figure size 640x480 with 1 Axes>"
      ]
     },
     "metadata": {},
     "output_type": "display_data"
    }
   ],
   "source": [
    "# try to compute the solution u for difference forcing term and compare with the\n",
    "# exact solution without recomputing the LU decompostion\n",
    "\n",
    "f2 = sin(2*pi*x)\n",
    "\n",
    "w = L_solve(L,f2)\n",
    "u = U_solve(U,w)\n",
    "\n",
    "u_control = linalg.solve(A, f2)\n",
    "\n",
    "plot(x,u,'ro',label='computed')\n",
    "plot(x,u_control,label='control')\n",
    "_=legend()"
   ]
  },
  {
   "cell_type": "markdown",
   "metadata": {},
   "source": [
    "## Cholesky decomposition"
   ]
  },
  {
   "cell_type": "markdown",
   "metadata": {},
   "source": [
    "In the case where the $n\\times n$ matrix $A$ is symmetric and positive definite, there exists a unique upper triangular matrix\n",
    "$R$ with positive diagonal elements such that\n",
    "$$\n",
    "A = R R^{T},\n",
    "$$\n",
    "which is called _Cholesky decomposition_.\n",
    "\n",
    "The entries of the mtrix $R$ are computed as:\n",
    "$$\n",
    "\\begin{array}{l}\n",
    "\tr_{11} = \\sqrt{a_{11}} \\\\\n",
    "\tr_{ij} = \\frac{1}{r_{jj}} \\left( a_{ij} - \\sum_{k=1}^{j-1} r_{ki}r_{kj} \\right), j=1,\\ldots, i-1 \\\\\n",
    "\tr_{ii} = \\sqrt{a_{ii} - \\sum_{k=1}^{i-1}r_{ki}^2}\n",
    "\\end{array}\n",
    "$$"
   ]
  },
  {
   "cell_type": "code",
   "execution_count": null,
   "metadata": {
    "colab": {
     "base_uri": "https://localhost:8080/",
     "height": 308
    },
    "id": "OOq4EbgXxX2i",
    "outputId": "409881bb-0b25-48a1-df3f-c5ed25ef93a7"
   },
   "outputs": [
    {
     "data": {
      "text/plain": [
       "<matplotlib.legend.Legend at 0x7f3a1442f940>"
      ]
     },
     "execution_count": 11,
     "metadata": {},
     "output_type": "execute_result"
    },
    {
     "data": {
      "image/png": "[encoded data removed]",
      "text/plain": [
       "<Figure size 640x480 with 1 Axes>"
      ]
     },
     "metadata": {},
     "output_type": "display_data"
    }
   ],
   "source": [
    "def cholesky(A):\n",
    "    A = A.copy()\n",
    "    N = len(A)\n",
    "    for k in range(N-1):\n",
    "        A[k,k] = sqrt(A[k,k])\n",
    "        A[k+1:N,k] = A[k+1:N,k]/A[k,k]\n",
    "\n",
    "        for j in range(k+1,N):\n",
    "            A[j:N,j] = A[j:N,j] - A[j:N,k]*A[j,k]\n",
    "\n",
    "    A[-1,-1] = sqrt(A[-1,-1])\n",
    "    L=tril(A)\n",
    "    return L, L.transpose()\n"
   ]
  },
  {
   "cell_type": "code",
   "execution_count": null,
   "metadata": {},
   "outputs": [],
   "source": [
    "\n",
    "HT, H = cholesky(A)\n",
    "y = L_solve(HT,f)\n",
    "u = U_solve(H,y)\n",
    "\n",
    "\n",
    "plot(x,u,'ro', label='Cholesky')\n",
    "plot(x,u_ex, label='Exact')\n",
    "legend()"
   ]
  },
  {
   "cell_type": "markdown",
   "metadata": {},
   "source": [
    "## Gaussian algorithm with pivoting\n",
    "\n",
    "All steps of the Gaussian elimination algorithm are linear operations on the matrix $A$, and can therefore be represented by suitable matrices. "
   ]
  },
  {
   "cell_type": "markdown",
   "metadata": {},
   "source": [
    "### Elimination matrices\n",
    "Given a vector $x = (x_i)_{i,1,\\ldots,n}$ m we can define an _elimination matrix_ E_k(x) such that $x_i=0,\\ i=k+1,\\ldots,n$.\n",
    "$$\n",
    "E_k(x) = I - \\hat x^k e_k^{T},\n",
    "$$\n",
    "where\n",
    "$$\n",
    "\\hat x^k = \\frac{1}{x_k}[0,\\ldots,0,x_{k+1},\\ldots,x_{n}]\n",
    "$$"
   ]
  },
  {
   "cell_type": "code",
   "execution_count": 12,
   "metadata": {},
   "outputs": [],
   "source": [
    "def elim(x,k):\n",
    "\t'''\n",
    "\tImplementation of elimination matrix\n",
    "\t'''\n",
    "\tn = x.shape[0]\n",
    "\txk = x.copy()\n",
    "\txk = reshape(xk,[n,1])\n",
    "\txk[0:k] = 0\n",
    "\txk /= x[k-1]\n",
    "\tek = zeros_like(xk)\n",
    "\tek[k-1] = 1\n",
    "\n",
    "\tE = eye(n) - xk@ek.transpose()\n",
    "\n",
    "\treturn E"
   ]
  },
  {
   "cell_type": "code",
   "execution_count": 13,
   "metadata": {},
   "outputs": [
    {
     "data": {
      "text/plain": [
       "array([0. , 0.1, 0.2, 0. , 0. , 0. , 0. , 0. , 0. , 0. , 0. ])"
      ]
     },
     "execution_count": 13,
     "metadata": {},
     "output_type": "execute_result"
    }
   ],
   "source": [
    "x = linspace(0,1,11)\n",
    "elim(x,3)@x"
   ]
  },
  {
   "cell_type": "markdown",
   "metadata": {},
   "source": [
    "Note that \n",
    "$$\n",
    "(I - \\hat x^k e_k^{T})(I + \\hat x^k e_k^{T}) = I + \\hat x^k e_k^{T} - \\hat x^k e_k^{T} - \\hat x^k e_k^{T}  \\hat x^k e_k^{T} = I,\n",
    "$$\n",
    "therefore \n",
    "$$\n",
    "E_k(x)^{-1} = I + \\hat x^k e_k^{T},\n",
    "\n",
    "$$"
   ]
  },
  {
   "cell_type": "code",
   "execution_count": 14,
   "metadata": {},
   "outputs": [],
   "source": [
    "def invelim(x,k):\n",
    "\t'''\n",
    "\tImplementation of inverse elimination matrix\n",
    "\t'''\n",
    "\tn = x.shape[0]\n",
    "\txk = x.copy()\n",
    "\txk = reshape(xk,[n,1])\n",
    "\txk[0:k] = 0\n",
    "\txk /= x[k-1]\n",
    "\tek = zeros_like(xk)\n",
    "\tek[k-1] = 1\n",
    "\n",
    "\tH = eye(n) + xk@ek.transpose()\n",
    "\n",
    "\treturn H"
   ]
  },
  {
   "cell_type": "markdown",
   "metadata": {},
   "source": [
    "Another interesting feature of these elimination matrices is that they are all lower triangular by construction, and the same is true for their inverses. "
   ]
  },
  {
   "cell_type": "markdown",
   "metadata": {},
   "source": [
    "### LU with elimination matrices\n",
    "It is easy to imagine how to implement the first step of the gaussian elimination algorithm using elimination matrices: "
   ]
  },
  {
   "cell_type": "code",
   "execution_count": 15,
   "metadata": {},
   "outputs": [
    {
     "data": {
      "text/plain": [
       "array([[-0.68366397,  0.62135225, -0.32467129, -0.51861781, -0.06398673],\n",
       "       [-0.48747117, -1.26792626,  0.68979837,  0.52553195,  1.40026214],\n",
       "       [-0.6247567 , -0.09027832,  1.96177266,  1.54269608,  0.53778214],\n",
       "       [ 0.76722921,  0.57205713,  0.34452773, -0.83507491,  0.38346648],\n",
       "       [-1.99705817, -0.65042638,  1.12215029,  0.58256146, -0.40107432]])"
      ]
     },
     "execution_count": 15,
     "metadata": {},
     "output_type": "execute_result"
    }
   ],
   "source": [
    "A = random.randn(5,5)\n",
    "A"
   ]
  },
  {
   "cell_type": "code",
   "execution_count": 16,
   "metadata": {},
   "outputs": [
    {
     "data": {
      "text/plain": [
       "array([[-6.83663975e-01,  6.21352250e-01, -3.24671291e-01,\n",
       "        -5.18617815e-01, -6.39867309e-02],\n",
       "       [ 0.00000000e+00, -1.71096746e+00,  9.21297906e-01,\n",
       "         8.95320683e-01,  1.44588644e+00],\n",
       "       [ 0.00000000e+00, -6.58092327e-01,  2.25846895e+00,\n",
       "         2.01662767e+00,  5.96255518e-01],\n",
       "       [ 0.00000000e+00,  1.26935816e+00, -1.98286060e-02,\n",
       "        -1.41708413e+00,  3.11658555e-01],\n",
       "       [-2.22044605e-16, -2.46546511e+00,  2.07055108e+00,\n",
       "         2.09750152e+00, -2.14161993e-01]])"
      ]
     },
     "execution_count": 16,
     "metadata": {},
     "output_type": "execute_result"
    }
   ],
   "source": [
    "A1 = elim(A[:,0],1)@A\n",
    "A1"
   ]
  },
  {
   "cell_type": "code",
   "execution_count": 17,
   "metadata": {},
   "outputs": [
    {
     "data": {
      "text/plain": [
       "array([[-6.83663975e-01,  6.21352250e-01, -3.24671291e-01,\n",
       "        -5.18617815e-01, -6.39867309e-02],\n",
       "       [ 0.00000000e+00, -1.71096746e+00,  9.21297906e-01,\n",
       "         8.95320683e-01,  1.44588644e+00],\n",
       "       [ 0.00000000e+00,  0.00000000e+00,  1.90410857e+00,\n",
       "         1.67225895e+00,  4.01217566e-02],\n",
       "       [ 0.00000000e+00,  0.00000000e+00,  6.63677680e-01,\n",
       "        -7.52850213e-01,  1.38435444e+00],\n",
       "       [-2.22044605e-16,  0.00000000e+00,  7.42981807e-01,\n",
       "         8.07364832e-01, -2.29765139e+00]])"
      ]
     },
     "execution_count": 17,
     "metadata": {},
     "output_type": "execute_result"
    }
   ],
   "source": [
    "A2 = elim(A1[:,1],2)@A1\n",
    "A2"
   ]
  },
  {
   "cell_type": "markdown",
   "metadata": {},
   "source": [
    "After $n-1$ iterations we have \n",
    "$$\n",
    "E_{n-1} \\cdots E_{2}E_{1} A = A_n \\text{ upper triangular}\n",
    "$$\n",
    "and therefore \n",
    "$$\n",
    "A = E_{1}^{-1}E_{2}^{-1}\\cdots E_{n-1}^{-1} A_n.\n",
    "$$\n",
    "Since $E_{k}^{-1}$ are lower triangular, we have \n",
    "$$\n",
    "A = LU,\\text{ with }\n",
    "\\begin{array}{l}\n",
    "L = E_{1}^{-1}E_{2}^{-1}\\cdots E_{n-1}^{-1} \\\\ \n",
    "U = E_{n-1} \\cdots E_{2}E_{1} A\n",
    "\\end{array}.\n",
    "$$"
   ]
  },
  {
   "cell_type": "code",
   "execution_count": 18,
   "metadata": {},
   "outputs": [],
   "source": [
    "def LUelim(A):\n",
    "\t'''\n",
    "\tImplementation of LU factorization by elimination matrices\n",
    "\t'''\n",
    "\tn = A.shape[1]\n",
    "\tL = eye(n)\n",
    "\tU = A.copy()\n",
    "\n",
    "\tfor k in range(n):\n",
    "\t\t\n",
    "\t\tif abs(U[k,k])<=1e-15:\n",
    "\t\t\traise RuntimeError(\"Null pivot\")\n",
    "\t\t\n",
    "\t\tE = elim(U[:,k],k+1)\n",
    "\t\tH = invelim(U[:,k],k+1)\n",
    "\n",
    "\t\tU = E@U\n",
    "\t\tL = L@H\n",
    "\n",
    "\treturn L,U"
   ]
  },
  {
   "cell_type": "code",
   "execution_count": 19,
   "metadata": {},
   "outputs": [
    {
     "name": "stdout",
     "output_type": "stream",
     "text": [
      "[[ 1.          0.          0.          0.          0.        ]\n",
      " [ 0.71302743  1.          0.          0.          0.        ]\n",
      " [ 0.91383593  0.3846317   1.          0.          0.        ]\n",
      " [-1.12223145 -0.74189497  0.34855034  1.          0.        ]\n",
      " [ 2.92111073  1.4409772   0.39019929 -0.11593071  1.        ]]\n",
      "[[-6.83663975e-01  6.21352250e-01 -3.24671291e-01 -5.18617815e-01\n",
      "  -6.39867309e-02]\n",
      " [ 0.00000000e+00 -1.71096746e+00  9.21297906e-01  8.95320683e-01\n",
      "   1.44588644e+00]\n",
      " [ 0.00000000e+00  0.00000000e+00  1.90410857e+00  1.67225895e+00\n",
      "   4.01217566e-02]\n",
      " [ 0.00000000e+00  0.00000000e+00  0.00000000e+00 -1.33571663e+00\n",
      "   1.37036998e+00]\n",
      " [-2.22044605e-16  0.00000000e+00  0.00000000e+00  0.00000000e+00\n",
      "  -2.15443890e+00]]\n"
     ]
    }
   ],
   "source": [
    "[L,U]=LUelim(A)\n",
    "print(L)\n",
    "print(U)"
   ]
  },
  {
   "cell_type": "markdown",
   "metadata": {},
   "source": [
    "### Pivoting with permutation matrices\n",
    "\n",
    "All the implementations we have see so far assume that at each step $a^{(k)}_{kk} \\neq 0$. \n",
    "But this is not always guaranteed, or easy to check before starting the elimination procedure. Only a handful of classes of matrices are known to have a $LU$ factorization for sure... \n",
    "\n",
    "To remedy, we can use the pivoting technique, which consists in exchanging rows (or columns) of the system so that no pivot is zero. \n",
    "This still does not guarantee that the algorithm finishes successfully, but it definitely enlarges the classes of matrices that can be factorized.\n",
    "\n",
    "Moreover, we can rearrange the row (or columns) of the matrices, so that the pivot is always the biggest available number, so that the computation of the elimination matrices and the backward substitution, which involve a division by the pivots, are more numerically robust. "
   ]
  },
  {
   "cell_type": "markdown",
   "metadata": {},
   "source": [
    "**Permutation matrices**\n",
    "\n",
    "The matrix representing the application that swaps rows $i$ and $j$ of a column vector $x$ is obtained by swapping rows $i$ and $j$ of the identity matrix: "
   ]
  },
  {
   "cell_type": "code",
   "execution_count": 20,
   "metadata": {},
   "outputs": [],
   "source": [
    "def perm(i,j,n):\n",
    "\t'''\n",
    "\tImplementation of a permutation matrix\n",
    "\t'''\n",
    "\n",
    "\tP = eye(n)\n",
    "\tP[[i,j],:] = P[[j,i],:]\n",
    "\n",
    "\treturn P"
   ]
  },
  {
   "cell_type": "code",
   "execution_count": 21,
   "metadata": {},
   "outputs": [
    {
     "name": "stdout",
     "output_type": "stream",
     "text": [
      "Permute rows 1 and 2 of\n",
      " [[-0.68366397  0.62135225 -0.32467129 -0.51861781 -0.06398673]\n",
      " [-0.48747117 -1.26792626  0.68979837  0.52553195  1.40026214]\n",
      " [-0.6247567  -0.09027832  1.96177266  1.54269608  0.53778214]\n",
      " [ 0.76722921  0.57205713  0.34452773 -0.83507491  0.38346648]\n",
      " [-1.99705817 -0.65042638  1.12215029  0.58256146 -0.40107432]]\n",
      "Result\n",
      " [[-0.48747117 -1.26792626  0.68979837  0.52553195  1.40026214]\n",
      " [-0.68366397  0.62135225 -0.32467129 -0.51861781 -0.06398673]\n",
      " [-0.6247567  -0.09027832  1.96177266  1.54269608  0.53778214]\n",
      " [ 0.76722921  0.57205713  0.34452773 -0.83507491  0.38346648]\n",
      " [-1.99705817 -0.65042638  1.12215029  0.58256146 -0.40107432]]\n"
     ]
    }
   ],
   "source": [
    "print(\"Permute rows 1 and 2 of\\n\",A)\n",
    "print(\"Result\\n\",perm(0,1,5)@A)"
   ]
  },
  {
   "cell_type": "markdown",
   "metadata": {},
   "source": [
    "Now, in the $LU$ factorization, we can pick at each step the permutation that moves the biggest entry blow the diagonal on the pivot: with this correction we get \n",
    "$$\n",
    "E_{n-1}P_{n-1} \\cdots E_2P_2 E_1 P_1 A = U.\n",
    "$$\n",
    "\n",
    "The problem now is that the inverse of $E_{n-1}P_{n-1} \\cdots E_2P_2 E_1 P_1$, while easy to compute is not in general lower triangular, but we can note that:\n",
    "- $P_k P_k = I$\n",
    "- For every $k$, $P_k$ swaps row $k$ with row $l$ with $l\\geq k$\n",
    "- For all $k$, the only non-zeros on $E_k$ are the diagonal and the below-diagonal $k$-th column\n",
    "Therefore \n",
    "$$ \n",
    "P_l E_k P_l := E'_k\n",
    "$$\n",
    "is lower triangular. \n",
    "\n",
    "We can therefore rearrange the above decomposition so to group all permutations matrices together: \n",
    "$$\n",
    "E_{n-1} \\left( P_{n-1} E_{n-2} P_{n-1} \\right)\\cdots \\left( P_{n-1}\\cdots P_{3} E_2 P_{3}\\cdots P_{n-1} \\right) \\left(P_{n-1}\\cdots P_{2} E_1 P_{2}\\cdots P_{n-1}\\right) P_{n-1}\\cdots P_2 P_1 A = U. \n",
    "$$\n",
    "So inverting the modified permutation matrices gives\n",
    "$$\n",
    "\\begin{split}\n",
    "L &= \\left(P_{n-1}\\cdots P_{2} E_1 P_{2}\\cdots P_{n-1}\\right)^{-1}\\left( P_{n-1}\\cdots P_{3} E_2 P_{3}\\cdots P_{n-1} \\right)^{-1} \\cdots E_{n-1}^{-1} \\\\\n",
    "& = \\left(P_{n-1}\\cdots P_{2} E_1^{-1} P_{2}\\cdots P_{n-1}\\right)\\left( P_{n-1}\\cdots P_{3} E_2^{-1} P_{3}\\cdots P_{n-1} \\right) \\cdots E_{n-1}^{-1} \\\\\n",
    "& = P_{n-1}\\cdots P_{2} E_1^{-1} P_{2} E_2^{-1} P_3 E_3^{-1} \\cdots   P_{n-1} E_{n-1}^{-1}\n",
    "\\end{split} \n",
    "$$\n",
    "\n",
    "So, we have obtained the following decomposition\n",
    "$$\n",
    "PA = LU,\\quad\n",
    "\\begin{array}{l}\n",
    "\tP = P_{n-1}\\cdots P_2 P_1 \\\\\n",
    "\tL = P_{n-1}\\cdots P_{2} E_1^{-1} P_{2} E_2^{-1} P_3 E_3^{-1} \\cdots   P_{n-1} E_{n-1}^{-1}  \\\\\n",
    "\tU = E_{n-1}P_{n-1} \\cdots E_2P_2 E_1 P_1 A.\n",
    "\\end{array}\n",
    "$$\n",
    "\n",
    "We can then implement the algorithm:"
   ]
  },
  {
   "cell_type": "code",
   "execution_count": 22,
   "metadata": {},
   "outputs": [],
   "source": [
    "def PALU(A):\n",
    "\t'''\n",
    "\tImplementation of LU decomposition with pivoting\n",
    "\t'''\n",
    "\tassert A.shape[1] == A.shape[0]\n",
    "\tn = A.shape[1]\n",
    "\n",
    "\tL = eye(n)\n",
    "\tP = L.copy()\n",
    "\tU = A.copy()\n",
    "\n",
    "\tfor k in range(n):\n",
    "\t\tidmax = argmax(abs(A[k,k:n])) + k\n",
    "\n",
    "\t\tPk = perm(k,idmax,n)\n",
    "\t\tP = Pk@P\n",
    "\t\tU = Pk@U\n",
    "\t\tL = Pk@L@Pk\n",
    "\n",
    "\t\tif abs(U[k,k])<1e-15:\n",
    "\t\t\traise RuntimeError(\"Null pivot\")\n",
    "\t\t\n",
    "\t\tE = elim(U[:,k],k+1)\n",
    "\t\tH = invelim(U[:,k],k+1)\n",
    "\n",
    "\t\tU = E@U\n",
    "\t\tL = L@H\n",
    "\n",
    "\treturn P,L,U"
   ]
  }
 ],
 "metadata": {
  "colab": {
   "provenance": []
  },
  "kernelspec": {
   "display_name": "Python 3",
   "name": "python3"
  },
  "language_info": {
   "codemirror_mode": {
    "name": "ipython",
    "version": 3
   },
   "file_extension": ".py",
   "mimetype": "text/x-python",
   "name": "python",
   "nbconvert_exporter": "python",
   "pygments_lexer": "ipython3",
   "version": "3.10.12"
  }
 },
 "nbformat": 4,
 "nbformat_minor": 0
}
